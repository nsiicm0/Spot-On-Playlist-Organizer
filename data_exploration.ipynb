{
 "cells": [
  {
   "cell_type": "markdown",
   "metadata": {},
   "source": [
    "# Spoton Data Exploration\n",
    "This notebook serves as a playground for the following tasks:\n",
    "\n",
    "* Get an understanding of the data at hand\n",
    "* Create visualizations\n",
    "* Do analysis and feature engineering\n",
    "* Develop ready to use pipeline"
   ]
  },
  {
   "cell_type": "code",
   "execution_count": 92,
   "metadata": {},
   "outputs": [],
   "source": [
    "import os\n",
    "import pandas as pd\n",
    "import numpy as np\n",
    "import seaborn as sns\n",
    "import matplotlib.pyplot as plt\n",
    "from math import pi"
   ]
  },
  {
   "cell_type": "markdown",
   "metadata": {},
   "source": [
    "## Loading of the extracted data and initial assessment"
   ]
  },
  {
   "cell_type": "code",
   "execution_count": 2,
   "metadata": {},
   "outputs": [],
   "source": [
    "data_folder = 'data'\n",
    "\n",
    "# get the file handles\n",
    "trackinfo = [os.path.join(data_folder, f) for f in os.listdir(data_folder) if os.path.isfile(os.path.join(data_folder, f)) and 'trackinfo' in f][0]\n",
    "trackfeatures = [os.path.join(data_folder, f) for f in os.listdir(data_folder) if os.path.isfile(os.path.join(data_folder, f)) and 'trackfeatures' in f][0]\n",
    "\n",
    "pd_trackinfo = pd.read_pickle(trackinfo)\n",
    "pd_trackfeatures = pd.read_pickle(trackfeatures)"
   ]
  },
  {
   "cell_type": "markdown",
   "metadata": {},
   "source": [
    "#### Trackinfo"
   ]
  },
  {
   "cell_type": "code",
   "execution_count": 3,
   "metadata": {},
   "outputs": [
    {
     "data": {
      "text/html": [
       "<div>\n",
       "<style scoped>\n",
       "    .dataframe tbody tr th:only-of-type {\n",
       "        vertical-align: middle;\n",
       "    }\n",
       "\n",
       "    .dataframe tbody tr th {\n",
       "        vertical-align: top;\n",
       "    }\n",
       "\n",
       "    .dataframe thead th {\n",
       "        text-align: right;\n",
       "    }\n",
       "</style>\n",
       "<table border=\"1\" class=\"dataframe\">\n",
       "  <thead>\n",
       "    <tr style=\"text-align: right;\">\n",
       "      <th></th>\n",
       "      <th>album</th>\n",
       "      <th>artists</th>\n",
       "      <th>available_markets</th>\n",
       "      <th>disc_number</th>\n",
       "      <th>duration_ms</th>\n",
       "      <th>explicit</th>\n",
       "      <th>external_ids</th>\n",
       "      <th>external_urls</th>\n",
       "      <th>href</th>\n",
       "      <th>id</th>\n",
       "      <th>is_local</th>\n",
       "      <th>name</th>\n",
       "      <th>popularity</th>\n",
       "      <th>preview_url</th>\n",
       "      <th>track_number</th>\n",
       "      <th>type</th>\n",
       "      <th>uri</th>\n",
       "    </tr>\n",
       "  </thead>\n",
       "  <tbody>\n",
       "    <tr>\n",
       "      <th>0</th>\n",
       "      <td>{'album_type': 'single', 'artists': [{'externa...</td>\n",
       "      <td>[{'external_urls': {'spotify': 'https://open.s...</td>\n",
       "      <td>[]</td>\n",
       "      <td>1</td>\n",
       "      <td>243839</td>\n",
       "      <td>False</td>\n",
       "      <td>{'isrc': 'USWB11701603'}</td>\n",
       "      <td>{'spotify': 'https://open.spotify.com/track/01...</td>\n",
       "      <td>https://api.spotify.com/v1/tracks/01FwoJVHy55B...</td>\n",
       "      <td>01FwoJVHy55BqEzf9hTtyf</td>\n",
       "      <td>False</td>\n",
       "      <td>Darker Than The Light That Never Bleeds - Ches...</td>\n",
       "      <td>0</td>\n",
       "      <td>None</td>\n",
       "      <td>1</td>\n",
       "      <td>track</td>\n",
       "      <td>spotify:track:01FwoJVHy55BqEzf9hTtyf</td>\n",
       "    </tr>\n",
       "    <tr>\n",
       "      <th>1</th>\n",
       "      <td>{'album_type': 'single', 'artists': [{'externa...</td>\n",
       "      <td>[{'external_urls': {'spotify': 'https://open.s...</td>\n",
       "      <td>[]</td>\n",
       "      <td>1</td>\n",
       "      <td>259764</td>\n",
       "      <td>False</td>\n",
       "      <td>{'isrc': 'CA6D21700236'}</td>\n",
       "      <td>{'spotify': 'https://open.spotify.com/track/0L...</td>\n",
       "      <td>https://api.spotify.com/v1/tracks/0LTq2r4sWXgr...</td>\n",
       "      <td>0LTq2r4sWXgrlJk5gfjanc</td>\n",
       "      <td>False</td>\n",
       "      <td>By Your Side (feat. Emel)</td>\n",
       "      <td>24</td>\n",
       "      <td>None</td>\n",
       "      <td>1</td>\n",
       "      <td>track</td>\n",
       "      <td>spotify:track:0LTq2r4sWXgrlJk5gfjanc</td>\n",
       "    </tr>\n",
       "    <tr>\n",
       "      <th>2</th>\n",
       "      <td>{'album_type': 'single', 'artists': [{'externa...</td>\n",
       "      <td>[{'external_urls': {'spotify': 'https://open.s...</td>\n",
       "      <td>[AD, AE, AR, AT, AU, BE, BG, BH, BO, BR, CA, C...</td>\n",
       "      <td>1</td>\n",
       "      <td>160312</td>\n",
       "      <td>False</td>\n",
       "      <td>{'isrc': 'NLQ8D1700559'}</td>\n",
       "      <td>{'spotify': 'https://open.spotify.com/track/0d...</td>\n",
       "      <td>https://api.spotify.com/v1/tracks/0d04hp9JU5pk...</td>\n",
       "      <td>0d04hp9JU5pkMoSFotxkmY</td>\n",
       "      <td>False</td>\n",
       "      <td>Alone Tonight</td>\n",
       "      <td>27</td>\n",
       "      <td>https://p.scdn.co/mp3-preview/b98fee9a97f3d755...</td>\n",
       "      <td>1</td>\n",
       "      <td>track</td>\n",
       "      <td>spotify:track:0d04hp9JU5pkMoSFotxkmY</td>\n",
       "    </tr>\n",
       "    <tr>\n",
       "      <th>3</th>\n",
       "      <td>{'album_type': 'single', 'artists': [{'externa...</td>\n",
       "      <td>[{'external_urls': {'spotify': 'https://open.s...</td>\n",
       "      <td>[AD, AE, AR, AT, AU, BE, BG, BH, BO, BR, CA, C...</td>\n",
       "      <td>1</td>\n",
       "      <td>215629</td>\n",
       "      <td>False</td>\n",
       "      <td>{'isrc': 'CA5KR1558775'}</td>\n",
       "      <td>{'spotify': 'https://open.spotify.com/track/14...</td>\n",
       "      <td>https://api.spotify.com/v1/tracks/144Jdqnukv2z...</td>\n",
       "      <td>144Jdqnukv2zebyt6vq9H8</td>\n",
       "      <td>False</td>\n",
       "      <td>Crash The Party</td>\n",
       "      <td>32</td>\n",
       "      <td>https://p.scdn.co/mp3-preview/c07475ee9c86f9cd...</td>\n",
       "      <td>1</td>\n",
       "      <td>track</td>\n",
       "      <td>spotify:track:144Jdqnukv2zebyt6vq9H8</td>\n",
       "    </tr>\n",
       "    <tr>\n",
       "      <th>4</th>\n",
       "      <td>{'album_type': 'compilation', 'artists': [{'ex...</td>\n",
       "      <td>[{'external_urls': {'spotify': 'https://open.s...</td>\n",
       "      <td>[AD, AE, AR, AT, AU, BE, BG, BH, BO, BR, CA, C...</td>\n",
       "      <td>1</td>\n",
       "      <td>224000</td>\n",
       "      <td>False</td>\n",
       "      <td>{'isrc': 'NLF711508382'}</td>\n",
       "      <td>{'spotify': 'https://open.spotify.com/track/1L...</td>\n",
       "      <td>https://api.spotify.com/v1/tracks/1LWM8ybNxkIW...</td>\n",
       "      <td>1LWM8ybNxkIWf8QqEafcP1</td>\n",
       "      <td>False</td>\n",
       "      <td>Black Coffee</td>\n",
       "      <td>22</td>\n",
       "      <td>https://p.scdn.co/mp3-preview/fa1abf7821f5cc16...</td>\n",
       "      <td>14</td>\n",
       "      <td>track</td>\n",
       "      <td>spotify:track:1LWM8ybNxkIWf8QqEafcP1</td>\n",
       "    </tr>\n",
       "  </tbody>\n",
       "</table>\n",
       "</div>"
      ],
      "text/plain": [
       "                                               album  \\\n",
       "0  {'album_type': 'single', 'artists': [{'externa...   \n",
       "1  {'album_type': 'single', 'artists': [{'externa...   \n",
       "2  {'album_type': 'single', 'artists': [{'externa...   \n",
       "3  {'album_type': 'single', 'artists': [{'externa...   \n",
       "4  {'album_type': 'compilation', 'artists': [{'ex...   \n",
       "\n",
       "                                             artists  \\\n",
       "0  [{'external_urls': {'spotify': 'https://open.s...   \n",
       "1  [{'external_urls': {'spotify': 'https://open.s...   \n",
       "2  [{'external_urls': {'spotify': 'https://open.s...   \n",
       "3  [{'external_urls': {'spotify': 'https://open.s...   \n",
       "4  [{'external_urls': {'spotify': 'https://open.s...   \n",
       "\n",
       "                                   available_markets  disc_number  \\\n",
       "0                                                 []            1   \n",
       "1                                                 []            1   \n",
       "2  [AD, AE, AR, AT, AU, BE, BG, BH, BO, BR, CA, C...            1   \n",
       "3  [AD, AE, AR, AT, AU, BE, BG, BH, BO, BR, CA, C...            1   \n",
       "4  [AD, AE, AR, AT, AU, BE, BG, BH, BO, BR, CA, C...            1   \n",
       "\n",
       "   duration_ms  explicit              external_ids  \\\n",
       "0       243839     False  {'isrc': 'USWB11701603'}   \n",
       "1       259764     False  {'isrc': 'CA6D21700236'}   \n",
       "2       160312     False  {'isrc': 'NLQ8D1700559'}   \n",
       "3       215629     False  {'isrc': 'CA5KR1558775'}   \n",
       "4       224000     False  {'isrc': 'NLF711508382'}   \n",
       "\n",
       "                                       external_urls  \\\n",
       "0  {'spotify': 'https://open.spotify.com/track/01...   \n",
       "1  {'spotify': 'https://open.spotify.com/track/0L...   \n",
       "2  {'spotify': 'https://open.spotify.com/track/0d...   \n",
       "3  {'spotify': 'https://open.spotify.com/track/14...   \n",
       "4  {'spotify': 'https://open.spotify.com/track/1L...   \n",
       "\n",
       "                                                href                      id  \\\n",
       "0  https://api.spotify.com/v1/tracks/01FwoJVHy55B...  01FwoJVHy55BqEzf9hTtyf   \n",
       "1  https://api.spotify.com/v1/tracks/0LTq2r4sWXgr...  0LTq2r4sWXgrlJk5gfjanc   \n",
       "2  https://api.spotify.com/v1/tracks/0d04hp9JU5pk...  0d04hp9JU5pkMoSFotxkmY   \n",
       "3  https://api.spotify.com/v1/tracks/144Jdqnukv2z...  144Jdqnukv2zebyt6vq9H8   \n",
       "4  https://api.spotify.com/v1/tracks/1LWM8ybNxkIW...  1LWM8ybNxkIWf8QqEafcP1   \n",
       "\n",
       "   is_local                                               name  popularity  \\\n",
       "0     False  Darker Than The Light That Never Bleeds - Ches...           0   \n",
       "1     False                          By Your Side (feat. Emel)          24   \n",
       "2     False                                      Alone Tonight          27   \n",
       "3     False                                    Crash The Party          32   \n",
       "4     False                                       Black Coffee          22   \n",
       "\n",
       "                                         preview_url  track_number   type  \\\n",
       "0                                               None             1  track   \n",
       "1                                               None             1  track   \n",
       "2  https://p.scdn.co/mp3-preview/b98fee9a97f3d755...             1  track   \n",
       "3  https://p.scdn.co/mp3-preview/c07475ee9c86f9cd...             1  track   \n",
       "4  https://p.scdn.co/mp3-preview/fa1abf7821f5cc16...            14  track   \n",
       "\n",
       "                                    uri  \n",
       "0  spotify:track:01FwoJVHy55BqEzf9hTtyf  \n",
       "1  spotify:track:0LTq2r4sWXgrlJk5gfjanc  \n",
       "2  spotify:track:0d04hp9JU5pkMoSFotxkmY  \n",
       "3  spotify:track:144Jdqnukv2zebyt6vq9H8  \n",
       "4  spotify:track:1LWM8ybNxkIWf8QqEafcP1  "
      ]
     },
     "execution_count": 3,
     "metadata": {},
     "output_type": "execute_result"
    }
   ],
   "source": [
    "pd_trackinfo.head()"
   ]
  },
  {
   "cell_type": "code",
   "execution_count": 4,
   "metadata": {},
   "outputs": [
    {
     "data": {
      "text/plain": [
       "(951, 17)"
      ]
     },
     "execution_count": 4,
     "metadata": {},
     "output_type": "execute_result"
    }
   ],
   "source": [
    "pd_trackinfo.shape"
   ]
  },
  {
   "cell_type": "markdown",
   "metadata": {},
   "source": [
    "There are not many features helpful for our purpose. Most of them I will drop without further comments. Some of the features are notheworthy:\n",
    "\n",
    "* available_markets - One could further improve our model by introducing the markets on which a track is being offered. This could further define a users taste.\n",
    "* explicit - An easy to understand flag. Tells a lot about the music. Example: Mozart might not fit well in a playlist with Eminem.\n",
    "* popularity - An interesting attribute. Might be useful.\n",
    "* duration_ms - Can be dropped as it is also available in trackfeatures"
   ]
  },
  {
   "cell_type": "code",
   "execution_count": 5,
   "metadata": {},
   "outputs": [],
   "source": [
    "columns_to_drop = ['album', 'artists', 'available_markets', 'disc_number', \n",
    "                   'duration_ms', 'external_ids', 'external_urls', 'href',\n",
    "                   'is_local', 'name', 'preview_url', 'track_number', 'type',\n",
    "                   'uri']\n",
    "pd_trackinfo.drop(columns_to_drop, axis=1, inplace=True)"
   ]
  },
  {
   "cell_type": "markdown",
   "metadata": {},
   "source": [
    "Let's check for duplicate records."
   ]
  },
  {
   "cell_type": "code",
   "execution_count": 6,
   "metadata": {},
   "outputs": [
    {
     "name": "stdout",
     "output_type": "stream",
     "text": [
      "(951, 3) (6, 3)\n"
     ]
    }
   ],
   "source": [
    "print(pd_trackinfo.shape, pd_trackinfo[pd_trackinfo.duplicated()].shape)"
   ]
  },
  {
   "cell_type": "code",
   "execution_count": 7,
   "metadata": {},
   "outputs": [
    {
     "data": {
      "text/html": [
       "<div>\n",
       "<style scoped>\n",
       "    .dataframe tbody tr th:only-of-type {\n",
       "        vertical-align: middle;\n",
       "    }\n",
       "\n",
       "    .dataframe tbody tr th {\n",
       "        vertical-align: top;\n",
       "    }\n",
       "\n",
       "    .dataframe thead th {\n",
       "        text-align: right;\n",
       "    }\n",
       "</style>\n",
       "<table border=\"1\" class=\"dataframe\">\n",
       "  <thead>\n",
       "    <tr style=\"text-align: right;\">\n",
       "      <th></th>\n",
       "      <th>explicit</th>\n",
       "      <th>id</th>\n",
       "      <th>popularity</th>\n",
       "    </tr>\n",
       "  </thead>\n",
       "  <tbody>\n",
       "    <tr>\n",
       "      <th>0</th>\n",
       "      <td>False</td>\n",
       "      <td>01FwoJVHy55BqEzf9hTtyf</td>\n",
       "      <td>0</td>\n",
       "    </tr>\n",
       "    <tr>\n",
       "      <th>1</th>\n",
       "      <td>False</td>\n",
       "      <td>0LTq2r4sWXgrlJk5gfjanc</td>\n",
       "      <td>24</td>\n",
       "    </tr>\n",
       "    <tr>\n",
       "      <th>2</th>\n",
       "      <td>False</td>\n",
       "      <td>0d04hp9JU5pkMoSFotxkmY</td>\n",
       "      <td>27</td>\n",
       "    </tr>\n",
       "    <tr>\n",
       "      <th>3</th>\n",
       "      <td>False</td>\n",
       "      <td>144Jdqnukv2zebyt6vq9H8</td>\n",
       "      <td>32</td>\n",
       "    </tr>\n",
       "    <tr>\n",
       "      <th>4</th>\n",
       "      <td>False</td>\n",
       "      <td>1LWM8ybNxkIWf8QqEafcP1</td>\n",
       "      <td>22</td>\n",
       "    </tr>\n",
       "    <tr>\n",
       "      <th>5</th>\n",
       "      <td>False</td>\n",
       "      <td>4weZBTWBtfQQRUJKVMZOsE</td>\n",
       "      <td>32</td>\n",
       "    </tr>\n",
       "    <tr>\n",
       "      <th>6</th>\n",
       "      <td>False</td>\n",
       "      <td>1swtjhwXhJlYtuzqXKfQoD</td>\n",
       "      <td>40</td>\n",
       "    </tr>\n",
       "    <tr>\n",
       "      <th>7</th>\n",
       "      <td>False</td>\n",
       "      <td>1uSAGG6FRvrjI22HyGDayU</td>\n",
       "      <td>38</td>\n",
       "    </tr>\n",
       "    <tr>\n",
       "      <th>8</th>\n",
       "      <td>False</td>\n",
       "      <td>2UkRIWOvxCYVpyqNTwy9dE</td>\n",
       "      <td>37</td>\n",
       "    </tr>\n",
       "    <tr>\n",
       "      <th>9</th>\n",
       "      <td>False</td>\n",
       "      <td>303QJcPey7DrwoIQzHAEjm</td>\n",
       "      <td>29</td>\n",
       "    </tr>\n",
       "    <tr>\n",
       "      <th>10</th>\n",
       "      <td>False</td>\n",
       "      <td>3F1hkIYH8AImRNIqbKSMXQ</td>\n",
       "      <td>34</td>\n",
       "    </tr>\n",
       "    <tr>\n",
       "      <th>11</th>\n",
       "      <td>False</td>\n",
       "      <td>1H4M2sr1CA1pOkg35btO0C</td>\n",
       "      <td>15</td>\n",
       "    </tr>\n",
       "    <tr>\n",
       "      <th>12</th>\n",
       "      <td>False</td>\n",
       "      <td>46L9j7CjtctvVNSZTmEJrx</td>\n",
       "      <td>42</td>\n",
       "    </tr>\n",
       "    <tr>\n",
       "      <th>13</th>\n",
       "      <td>False</td>\n",
       "      <td>10IR5pzbX5dv4as7Uf7hts</td>\n",
       "      <td>23</td>\n",
       "    </tr>\n",
       "    <tr>\n",
       "      <th>14</th>\n",
       "      <td>False</td>\n",
       "      <td>4SV8h3RlcuQc9jE9MUQfFF</td>\n",
       "      <td>25</td>\n",
       "    </tr>\n",
       "    <tr>\n",
       "      <th>15</th>\n",
       "      <td>False</td>\n",
       "      <td>4bKEp7eKqNGySpKZX5mCed</td>\n",
       "      <td>45</td>\n",
       "    </tr>\n",
       "    <tr>\n",
       "      <th>16</th>\n",
       "      <td>False</td>\n",
       "      <td>4yzc9GjCMUyG41cNeu7eiE</td>\n",
       "      <td>40</td>\n",
       "    </tr>\n",
       "    <tr>\n",
       "      <th>17</th>\n",
       "      <td>False</td>\n",
       "      <td>55jk70uGhiwfFCGXJRhcNW</td>\n",
       "      <td>39</td>\n",
       "    </tr>\n",
       "    <tr>\n",
       "      <th>18</th>\n",
       "      <td>False</td>\n",
       "      <td>56ktw0cBP5vGO5pmUsy9q4</td>\n",
       "      <td>30</td>\n",
       "    </tr>\n",
       "    <tr>\n",
       "      <th>19</th>\n",
       "      <td>False</td>\n",
       "      <td>5AfzDfY1NzipDdfbVBCzlM</td>\n",
       "      <td>21</td>\n",
       "    </tr>\n",
       "    <tr>\n",
       "      <th>20</th>\n",
       "      <td>False</td>\n",
       "      <td>5GO9eq5Xu2G8waqwjZjUYI</td>\n",
       "      <td>51</td>\n",
       "    </tr>\n",
       "    <tr>\n",
       "      <th>21</th>\n",
       "      <td>True</td>\n",
       "      <td>5MEgfTEmK5KeRAoQo6W5rM</td>\n",
       "      <td>40</td>\n",
       "    </tr>\n",
       "    <tr>\n",
       "      <th>22</th>\n",
       "      <td>False</td>\n",
       "      <td>5dZlxXy2MxUWQ7buue0f62</td>\n",
       "      <td>27</td>\n",
       "    </tr>\n",
       "    <tr>\n",
       "      <th>23</th>\n",
       "      <td>False</td>\n",
       "      <td>6MrKIOtWxBnDXycdZmQvrt</td>\n",
       "      <td>28</td>\n",
       "    </tr>\n",
       "    <tr>\n",
       "      <th>24</th>\n",
       "      <td>False</td>\n",
       "      <td>6aeqAwf4vfQeWFSjmgZCEB</td>\n",
       "      <td>32</td>\n",
       "    </tr>\n",
       "    <tr>\n",
       "      <th>25</th>\n",
       "      <td>False</td>\n",
       "      <td>74TdUlQYu09uAgZEbBZ58j</td>\n",
       "      <td>21</td>\n",
       "    </tr>\n",
       "    <tr>\n",
       "      <th>26</th>\n",
       "      <td>False</td>\n",
       "      <td>782YlCwsXdlu2myUme4zyu</td>\n",
       "      <td>41</td>\n",
       "    </tr>\n",
       "    <tr>\n",
       "      <th>27</th>\n",
       "      <td>False</td>\n",
       "      <td>7Mcbk8CghT5wE6j4WfG2uQ</td>\n",
       "      <td>47</td>\n",
       "    </tr>\n",
       "    <tr>\n",
       "      <th>28</th>\n",
       "      <td>False</td>\n",
       "      <td>7nGUyNRgzjQ4lnyvJqXvNO</td>\n",
       "      <td>11</td>\n",
       "    </tr>\n",
       "    <tr>\n",
       "      <th>29</th>\n",
       "      <td>False</td>\n",
       "      <td>7sggd2ZlSvC10u6389Yn4k</td>\n",
       "      <td>17</td>\n",
       "    </tr>\n",
       "    <tr>\n",
       "      <th>...</th>\n",
       "      <td>...</td>\n",
       "      <td>...</td>\n",
       "      <td>...</td>\n",
       "    </tr>\n",
       "    <tr>\n",
       "      <th>921</th>\n",
       "      <td>False</td>\n",
       "      <td>6z7LM4N54IRNJfH9n2dmla</td>\n",
       "      <td>27</td>\n",
       "    </tr>\n",
       "    <tr>\n",
       "      <th>922</th>\n",
       "      <td>False</td>\n",
       "      <td>0QbmgtJumFrnhunEljYLdm</td>\n",
       "      <td>27</td>\n",
       "    </tr>\n",
       "    <tr>\n",
       "      <th>923</th>\n",
       "      <td>False</td>\n",
       "      <td>0HnV5R4fBuNCoh6XDetQmj</td>\n",
       "      <td>51</td>\n",
       "    </tr>\n",
       "    <tr>\n",
       "      <th>924</th>\n",
       "      <td>False</td>\n",
       "      <td>0wkEdDhLfUbJWsiBcdSn1S</td>\n",
       "      <td>30</td>\n",
       "    </tr>\n",
       "    <tr>\n",
       "      <th>925</th>\n",
       "      <td>False</td>\n",
       "      <td>142jMpGhzJl0E7twPAkbY2</td>\n",
       "      <td>57</td>\n",
       "    </tr>\n",
       "    <tr>\n",
       "      <th>926</th>\n",
       "      <td>False</td>\n",
       "      <td>18VPI5WxIe5gFUf9FLLWfS</td>\n",
       "      <td>39</td>\n",
       "    </tr>\n",
       "    <tr>\n",
       "      <th>927</th>\n",
       "      <td>False</td>\n",
       "      <td>1EhCqGJfNj4LImGbnpEzXo</td>\n",
       "      <td>32</td>\n",
       "    </tr>\n",
       "    <tr>\n",
       "      <th>928</th>\n",
       "      <td>False</td>\n",
       "      <td>1G0Fs0eAznJy9sPf1LwOGr</td>\n",
       "      <td>27</td>\n",
       "    </tr>\n",
       "    <tr>\n",
       "      <th>929</th>\n",
       "      <td>False</td>\n",
       "      <td>1TOs3Ih3404J9ExtugB7pl</td>\n",
       "      <td>34</td>\n",
       "    </tr>\n",
       "    <tr>\n",
       "      <th>930</th>\n",
       "      <td>False</td>\n",
       "      <td>1oRy2CCBaWCVqJRkmyGWLx</td>\n",
       "      <td>60</td>\n",
       "    </tr>\n",
       "    <tr>\n",
       "      <th>931</th>\n",
       "      <td>False</td>\n",
       "      <td>2R0Jp0FUcLnXRJsUhdCrhq</td>\n",
       "      <td>27</td>\n",
       "    </tr>\n",
       "    <tr>\n",
       "      <th>932</th>\n",
       "      <td>False</td>\n",
       "      <td>2ZfQyCU4ZGHRXlOIJOqw4e</td>\n",
       "      <td>34</td>\n",
       "    </tr>\n",
       "    <tr>\n",
       "      <th>933</th>\n",
       "      <td>False</td>\n",
       "      <td>39y4GUCaWhC4BKArUUhE8p</td>\n",
       "      <td>30</td>\n",
       "    </tr>\n",
       "    <tr>\n",
       "      <th>934</th>\n",
       "      <td>False</td>\n",
       "      <td>3G8JTITtEFBHAHNSlrgVR4</td>\n",
       "      <td>42</td>\n",
       "    </tr>\n",
       "    <tr>\n",
       "      <th>935</th>\n",
       "      <td>False</td>\n",
       "      <td>3XussQ7yygu3uoAPEDlwhi</td>\n",
       "      <td>48</td>\n",
       "    </tr>\n",
       "    <tr>\n",
       "      <th>936</th>\n",
       "      <td>False</td>\n",
       "      <td>454pTBJhThN8MhQUyKCDn8</td>\n",
       "      <td>28</td>\n",
       "    </tr>\n",
       "    <tr>\n",
       "      <th>937</th>\n",
       "      <td>False</td>\n",
       "      <td>0DNburPSI37graB2ueQo20</td>\n",
       "      <td>31</td>\n",
       "    </tr>\n",
       "    <tr>\n",
       "      <th>938</th>\n",
       "      <td>False</td>\n",
       "      <td>4ucGYVIyKSyWSr5pXU85yR</td>\n",
       "      <td>40</td>\n",
       "    </tr>\n",
       "    <tr>\n",
       "      <th>939</th>\n",
       "      <td>False</td>\n",
       "      <td>5ODbolFek8icPQDO7ZEeHP</td>\n",
       "      <td>44</td>\n",
       "    </tr>\n",
       "    <tr>\n",
       "      <th>940</th>\n",
       "      <td>False</td>\n",
       "      <td>5lrKqbQQgG4QkWpCcFjZT8</td>\n",
       "      <td>32</td>\n",
       "    </tr>\n",
       "    <tr>\n",
       "      <th>941</th>\n",
       "      <td>False</td>\n",
       "      <td>6SgM24gAhunbOMPDkIllNw</td>\n",
       "      <td>39</td>\n",
       "    </tr>\n",
       "    <tr>\n",
       "      <th>942</th>\n",
       "      <td>False</td>\n",
       "      <td>6ataxZgJtC7OROpznt1V5A</td>\n",
       "      <td>42</td>\n",
       "    </tr>\n",
       "    <tr>\n",
       "      <th>943</th>\n",
       "      <td>True</td>\n",
       "      <td>6cxOCfqWLoIhiTXLRZQW7L</td>\n",
       "      <td>37</td>\n",
       "    </tr>\n",
       "    <tr>\n",
       "      <th>944</th>\n",
       "      <td>False</td>\n",
       "      <td>6dqvyjRaNVP8ALsm4WZNLH</td>\n",
       "      <td>33</td>\n",
       "    </tr>\n",
       "    <tr>\n",
       "      <th>945</th>\n",
       "      <td>False</td>\n",
       "      <td>6e5vXe4E9GT7juN4gT2DYd</td>\n",
       "      <td>30</td>\n",
       "    </tr>\n",
       "    <tr>\n",
       "      <th>946</th>\n",
       "      <td>False</td>\n",
       "      <td>6gbilykEMv3ahTQNT6W570</td>\n",
       "      <td>39</td>\n",
       "    </tr>\n",
       "    <tr>\n",
       "      <th>947</th>\n",
       "      <td>False</td>\n",
       "      <td>3u3YMLtbaogSOhyLMLVU0c</td>\n",
       "      <td>42</td>\n",
       "    </tr>\n",
       "    <tr>\n",
       "      <th>948</th>\n",
       "      <td>False</td>\n",
       "      <td>777lzBBmmHCv1d0ADMjRcL</td>\n",
       "      <td>40</td>\n",
       "    </tr>\n",
       "    <tr>\n",
       "      <th>949</th>\n",
       "      <td>False</td>\n",
       "      <td>4m9AUXzAE0YkO33xzpLCKc</td>\n",
       "      <td>41</td>\n",
       "    </tr>\n",
       "    <tr>\n",
       "      <th>950</th>\n",
       "      <td>False</td>\n",
       "      <td>7rnQUKsOAzWhPsb92ktyNF</td>\n",
       "      <td>40</td>\n",
       "    </tr>\n",
       "  </tbody>\n",
       "</table>\n",
       "<p>945 rows × 3 columns</p>\n",
       "</div>"
      ],
      "text/plain": [
       "     explicit                      id  popularity\n",
       "0       False  01FwoJVHy55BqEzf9hTtyf           0\n",
       "1       False  0LTq2r4sWXgrlJk5gfjanc          24\n",
       "2       False  0d04hp9JU5pkMoSFotxkmY          27\n",
       "3       False  144Jdqnukv2zebyt6vq9H8          32\n",
       "4       False  1LWM8ybNxkIWf8QqEafcP1          22\n",
       "5       False  4weZBTWBtfQQRUJKVMZOsE          32\n",
       "6       False  1swtjhwXhJlYtuzqXKfQoD          40\n",
       "7       False  1uSAGG6FRvrjI22HyGDayU          38\n",
       "8       False  2UkRIWOvxCYVpyqNTwy9dE          37\n",
       "9       False  303QJcPey7DrwoIQzHAEjm          29\n",
       "10      False  3F1hkIYH8AImRNIqbKSMXQ          34\n",
       "11      False  1H4M2sr1CA1pOkg35btO0C          15\n",
       "12      False  46L9j7CjtctvVNSZTmEJrx          42\n",
       "13      False  10IR5pzbX5dv4as7Uf7hts          23\n",
       "14      False  4SV8h3RlcuQc9jE9MUQfFF          25\n",
       "15      False  4bKEp7eKqNGySpKZX5mCed          45\n",
       "16      False  4yzc9GjCMUyG41cNeu7eiE          40\n",
       "17      False  55jk70uGhiwfFCGXJRhcNW          39\n",
       "18      False  56ktw0cBP5vGO5pmUsy9q4          30\n",
       "19      False  5AfzDfY1NzipDdfbVBCzlM          21\n",
       "20      False  5GO9eq5Xu2G8waqwjZjUYI          51\n",
       "21       True  5MEgfTEmK5KeRAoQo6W5rM          40\n",
       "22      False  5dZlxXy2MxUWQ7buue0f62          27\n",
       "23      False  6MrKIOtWxBnDXycdZmQvrt          28\n",
       "24      False  6aeqAwf4vfQeWFSjmgZCEB          32\n",
       "25      False  74TdUlQYu09uAgZEbBZ58j          21\n",
       "26      False  782YlCwsXdlu2myUme4zyu          41\n",
       "27      False  7Mcbk8CghT5wE6j4WfG2uQ          47\n",
       "28      False  7nGUyNRgzjQ4lnyvJqXvNO          11\n",
       "29      False  7sggd2ZlSvC10u6389Yn4k          17\n",
       "..        ...                     ...         ...\n",
       "921     False  6z7LM4N54IRNJfH9n2dmla          27\n",
       "922     False  0QbmgtJumFrnhunEljYLdm          27\n",
       "923     False  0HnV5R4fBuNCoh6XDetQmj          51\n",
       "924     False  0wkEdDhLfUbJWsiBcdSn1S          30\n",
       "925     False  142jMpGhzJl0E7twPAkbY2          57\n",
       "926     False  18VPI5WxIe5gFUf9FLLWfS          39\n",
       "927     False  1EhCqGJfNj4LImGbnpEzXo          32\n",
       "928     False  1G0Fs0eAznJy9sPf1LwOGr          27\n",
       "929     False  1TOs3Ih3404J9ExtugB7pl          34\n",
       "930     False  1oRy2CCBaWCVqJRkmyGWLx          60\n",
       "931     False  2R0Jp0FUcLnXRJsUhdCrhq          27\n",
       "932     False  2ZfQyCU4ZGHRXlOIJOqw4e          34\n",
       "933     False  39y4GUCaWhC4BKArUUhE8p          30\n",
       "934     False  3G8JTITtEFBHAHNSlrgVR4          42\n",
       "935     False  3XussQ7yygu3uoAPEDlwhi          48\n",
       "936     False  454pTBJhThN8MhQUyKCDn8          28\n",
       "937     False  0DNburPSI37graB2ueQo20          31\n",
       "938     False  4ucGYVIyKSyWSr5pXU85yR          40\n",
       "939     False  5ODbolFek8icPQDO7ZEeHP          44\n",
       "940     False  5lrKqbQQgG4QkWpCcFjZT8          32\n",
       "941     False  6SgM24gAhunbOMPDkIllNw          39\n",
       "942     False  6ataxZgJtC7OROpznt1V5A          42\n",
       "943      True  6cxOCfqWLoIhiTXLRZQW7L          37\n",
       "944     False  6dqvyjRaNVP8ALsm4WZNLH          33\n",
       "945     False  6e5vXe4E9GT7juN4gT2DYd          30\n",
       "946     False  6gbilykEMv3ahTQNT6W570          39\n",
       "947     False  3u3YMLtbaogSOhyLMLVU0c          42\n",
       "948     False  777lzBBmmHCv1d0ADMjRcL          40\n",
       "949     False  4m9AUXzAE0YkO33xzpLCKc          41\n",
       "950     False  7rnQUKsOAzWhPsb92ktyNF          40\n",
       "\n",
       "[945 rows x 3 columns]"
      ]
     },
     "execution_count": 7,
     "metadata": {},
     "output_type": "execute_result"
    }
   ],
   "source": [
    "pd_trackinfo.drop_duplicates(inplace=False)"
   ]
  },
  {
   "cell_type": "markdown",
   "metadata": {},
   "source": [
    "#### Trackfeatures"
   ]
  },
  {
   "cell_type": "code",
   "execution_count": 8,
   "metadata": {},
   "outputs": [
    {
     "data": {
      "text/html": [
       "<div>\n",
       "<style scoped>\n",
       "    .dataframe tbody tr th:only-of-type {\n",
       "        vertical-align: middle;\n",
       "    }\n",
       "\n",
       "    .dataframe tbody tr th {\n",
       "        vertical-align: top;\n",
       "    }\n",
       "\n",
       "    .dataframe thead th {\n",
       "        text-align: right;\n",
       "    }\n",
       "</style>\n",
       "<table border=\"1\" class=\"dataframe\">\n",
       "  <thead>\n",
       "    <tr style=\"text-align: right;\">\n",
       "      <th></th>\n",
       "      <th>acousticness</th>\n",
       "      <th>analysis_url</th>\n",
       "      <th>danceability</th>\n",
       "      <th>duration_ms</th>\n",
       "      <th>energy</th>\n",
       "      <th>id</th>\n",
       "      <th>instrumentalness</th>\n",
       "      <th>key</th>\n",
       "      <th>liveness</th>\n",
       "      <th>loudness</th>\n",
       "      <th>mode</th>\n",
       "      <th>speechiness</th>\n",
       "      <th>tempo</th>\n",
       "      <th>time_signature</th>\n",
       "      <th>track_href</th>\n",
       "      <th>type</th>\n",
       "      <th>uri</th>\n",
       "      <th>valence</th>\n",
       "    </tr>\n",
       "  </thead>\n",
       "  <tbody>\n",
       "    <tr>\n",
       "      <th>0</th>\n",
       "      <td>0.011500</td>\n",
       "      <td>https://api.spotify.com/v1/audio-analysis/01Fw...</td>\n",
       "      <td>0.684</td>\n",
       "      <td>243840</td>\n",
       "      <td>0.918</td>\n",
       "      <td>01FwoJVHy55BqEzf9hTtyf</td>\n",
       "      <td>0.133000</td>\n",
       "      <td>5</td>\n",
       "      <td>0.1310</td>\n",
       "      <td>-3.389</td>\n",
       "      <td>1</td>\n",
       "      <td>0.0463</td>\n",
       "      <td>124.959</td>\n",
       "      <td>4</td>\n",
       "      <td>https://api.spotify.com/v1/tracks/01FwoJVHy55B...</td>\n",
       "      <td>audio_features</td>\n",
       "      <td>spotify:track:01FwoJVHy55BqEzf9hTtyf</td>\n",
       "      <td>0.160</td>\n",
       "    </tr>\n",
       "    <tr>\n",
       "      <th>1</th>\n",
       "      <td>0.007800</td>\n",
       "      <td>https://api.spotify.com/v1/audio-analysis/0LTq...</td>\n",
       "      <td>0.448</td>\n",
       "      <td>259765</td>\n",
       "      <td>0.880</td>\n",
       "      <td>0LTq2r4sWXgrlJk5gfjanc</td>\n",
       "      <td>0.000011</td>\n",
       "      <td>8</td>\n",
       "      <td>0.0955</td>\n",
       "      <td>-3.076</td>\n",
       "      <td>1</td>\n",
       "      <td>0.1360</td>\n",
       "      <td>170.047</td>\n",
       "      <td>4</td>\n",
       "      <td>https://api.spotify.com/v1/tracks/0LTq2r4sWXgr...</td>\n",
       "      <td>audio_features</td>\n",
       "      <td>spotify:track:0LTq2r4sWXgrlJk5gfjanc</td>\n",
       "      <td>0.394</td>\n",
       "    </tr>\n",
       "    <tr>\n",
       "      <th>2</th>\n",
       "      <td>0.013800</td>\n",
       "      <td>https://api.spotify.com/v1/audio-analysis/0d04...</td>\n",
       "      <td>0.585</td>\n",
       "      <td>160312</td>\n",
       "      <td>0.933</td>\n",
       "      <td>0d04hp9JU5pkMoSFotxkmY</td>\n",
       "      <td>0.013200</td>\n",
       "      <td>6</td>\n",
       "      <td>0.2000</td>\n",
       "      <td>-3.927</td>\n",
       "      <td>0</td>\n",
       "      <td>0.0738</td>\n",
       "      <td>127.996</td>\n",
       "      <td>4</td>\n",
       "      <td>https://api.spotify.com/v1/tracks/0d04hp9JU5pk...</td>\n",
       "      <td>audio_features</td>\n",
       "      <td>spotify:track:0d04hp9JU5pkMoSFotxkmY</td>\n",
       "      <td>0.262</td>\n",
       "    </tr>\n",
       "    <tr>\n",
       "      <th>3</th>\n",
       "      <td>0.001370</td>\n",
       "      <td>https://api.spotify.com/v1/audio-analysis/144J...</td>\n",
       "      <td>0.626</td>\n",
       "      <td>215630</td>\n",
       "      <td>0.856</td>\n",
       "      <td>144Jdqnukv2zebyt6vq9H8</td>\n",
       "      <td>0.533000</td>\n",
       "      <td>8</td>\n",
       "      <td>0.1610</td>\n",
       "      <td>-4.937</td>\n",
       "      <td>1</td>\n",
       "      <td>0.0565</td>\n",
       "      <td>127.989</td>\n",
       "      <td>4</td>\n",
       "      <td>https://api.spotify.com/v1/tracks/144Jdqnukv2z...</td>\n",
       "      <td>audio_features</td>\n",
       "      <td>spotify:track:144Jdqnukv2zebyt6vq9H8</td>\n",
       "      <td>0.333</td>\n",
       "    </tr>\n",
       "    <tr>\n",
       "      <th>4</th>\n",
       "      <td>0.000319</td>\n",
       "      <td>https://api.spotify.com/v1/audio-analysis/1LWM...</td>\n",
       "      <td>0.503</td>\n",
       "      <td>224000</td>\n",
       "      <td>0.969</td>\n",
       "      <td>1LWM8ybNxkIWf8QqEafcP1</td>\n",
       "      <td>0.584000</td>\n",
       "      <td>9</td>\n",
       "      <td>0.3620</td>\n",
       "      <td>-5.737</td>\n",
       "      <td>1</td>\n",
       "      <td>0.0405</td>\n",
       "      <td>139.981</td>\n",
       "      <td>4</td>\n",
       "      <td>https://api.spotify.com/v1/tracks/1LWM8ybNxkIW...</td>\n",
       "      <td>audio_features</td>\n",
       "      <td>spotify:track:1LWM8ybNxkIWf8QqEafcP1</td>\n",
       "      <td>0.288</td>\n",
       "    </tr>\n",
       "  </tbody>\n",
       "</table>\n",
       "</div>"
      ],
      "text/plain": [
       "   acousticness                                       analysis_url  \\\n",
       "0      0.011500  https://api.spotify.com/v1/audio-analysis/01Fw...   \n",
       "1      0.007800  https://api.spotify.com/v1/audio-analysis/0LTq...   \n",
       "2      0.013800  https://api.spotify.com/v1/audio-analysis/0d04...   \n",
       "3      0.001370  https://api.spotify.com/v1/audio-analysis/144J...   \n",
       "4      0.000319  https://api.spotify.com/v1/audio-analysis/1LWM...   \n",
       "\n",
       "   danceability  duration_ms  energy                      id  \\\n",
       "0         0.684       243840   0.918  01FwoJVHy55BqEzf9hTtyf   \n",
       "1         0.448       259765   0.880  0LTq2r4sWXgrlJk5gfjanc   \n",
       "2         0.585       160312   0.933  0d04hp9JU5pkMoSFotxkmY   \n",
       "3         0.626       215630   0.856  144Jdqnukv2zebyt6vq9H8   \n",
       "4         0.503       224000   0.969  1LWM8ybNxkIWf8QqEafcP1   \n",
       "\n",
       "   instrumentalness  key  liveness  loudness  mode  speechiness    tempo  \\\n",
       "0          0.133000    5    0.1310    -3.389     1       0.0463  124.959   \n",
       "1          0.000011    8    0.0955    -3.076     1       0.1360  170.047   \n",
       "2          0.013200    6    0.2000    -3.927     0       0.0738  127.996   \n",
       "3          0.533000    8    0.1610    -4.937     1       0.0565  127.989   \n",
       "4          0.584000    9    0.3620    -5.737     1       0.0405  139.981   \n",
       "\n",
       "   time_signature                                         track_href  \\\n",
       "0               4  https://api.spotify.com/v1/tracks/01FwoJVHy55B...   \n",
       "1               4  https://api.spotify.com/v1/tracks/0LTq2r4sWXgr...   \n",
       "2               4  https://api.spotify.com/v1/tracks/0d04hp9JU5pk...   \n",
       "3               4  https://api.spotify.com/v1/tracks/144Jdqnukv2z...   \n",
       "4               4  https://api.spotify.com/v1/tracks/1LWM8ybNxkIW...   \n",
       "\n",
       "             type                                   uri  valence  \n",
       "0  audio_features  spotify:track:01FwoJVHy55BqEzf9hTtyf    0.160  \n",
       "1  audio_features  spotify:track:0LTq2r4sWXgrlJk5gfjanc    0.394  \n",
       "2  audio_features  spotify:track:0d04hp9JU5pkMoSFotxkmY    0.262  \n",
       "3  audio_features  spotify:track:144Jdqnukv2zebyt6vq9H8    0.333  \n",
       "4  audio_features  spotify:track:1LWM8ybNxkIWf8QqEafcP1    0.288  "
      ]
     },
     "execution_count": 8,
     "metadata": {},
     "output_type": "execute_result"
    }
   ],
   "source": [
    "pd_trackfeatures.head()"
   ]
  },
  {
   "cell_type": "code",
   "execution_count": 9,
   "metadata": {},
   "outputs": [
    {
     "data": {
      "text/plain": [
       "(951, 18)"
      ]
     },
     "execution_count": 9,
     "metadata": {},
     "output_type": "execute_result"
    }
   ],
   "source": [
    "pd_trackfeatures.shape"
   ]
  },
  {
   "cell_type": "markdown",
   "metadata": {},
   "source": [
    "Compared to trackinfo, we do have a lot of useful columns in the trackfeatures. There are some obvious ones, which are completely useless for our cause. Hence, we will just drop them."
   ]
  },
  {
   "cell_type": "code",
   "execution_count": 10,
   "metadata": {},
   "outputs": [],
   "source": [
    "columns_to_drop = ['analysis_url', 'track_href', 'type', 'uri']\n",
    "pd_trackfeatures.drop(columns_to_drop, axis=1, inplace=True)"
   ]
  },
  {
   "cell_type": "markdown",
   "metadata": {},
   "source": [
    "Let's check for duplicate records too."
   ]
  },
  {
   "cell_type": "code",
   "execution_count": 11,
   "metadata": {},
   "outputs": [
    {
     "name": "stdout",
     "output_type": "stream",
     "text": [
      "(951, 14) (6, 14)\n"
     ]
    }
   ],
   "source": [
    "print(pd_trackfeatures.shape, pd_trackfeatures[pd_trackfeatures.duplicated()].shape)"
   ]
  },
  {
   "cell_type": "code",
   "execution_count": 12,
   "metadata": {},
   "outputs": [
    {
     "data": {
      "text/html": [
       "<div>\n",
       "<style scoped>\n",
       "    .dataframe tbody tr th:only-of-type {\n",
       "        vertical-align: middle;\n",
       "    }\n",
       "\n",
       "    .dataframe tbody tr th {\n",
       "        vertical-align: top;\n",
       "    }\n",
       "\n",
       "    .dataframe thead th {\n",
       "        text-align: right;\n",
       "    }\n",
       "</style>\n",
       "<table border=\"1\" class=\"dataframe\">\n",
       "  <thead>\n",
       "    <tr style=\"text-align: right;\">\n",
       "      <th></th>\n",
       "      <th>acousticness</th>\n",
       "      <th>danceability</th>\n",
       "      <th>duration_ms</th>\n",
       "      <th>energy</th>\n",
       "      <th>id</th>\n",
       "      <th>instrumentalness</th>\n",
       "      <th>key</th>\n",
       "      <th>liveness</th>\n",
       "      <th>loudness</th>\n",
       "      <th>mode</th>\n",
       "      <th>speechiness</th>\n",
       "      <th>tempo</th>\n",
       "      <th>time_signature</th>\n",
       "      <th>valence</th>\n",
       "    </tr>\n",
       "  </thead>\n",
       "  <tbody>\n",
       "    <tr>\n",
       "      <th>0</th>\n",
       "      <td>0.011500</td>\n",
       "      <td>0.684</td>\n",
       "      <td>243840</td>\n",
       "      <td>0.918</td>\n",
       "      <td>01FwoJVHy55BqEzf9hTtyf</td>\n",
       "      <td>0.133000</td>\n",
       "      <td>5</td>\n",
       "      <td>0.1310</td>\n",
       "      <td>-3.389</td>\n",
       "      <td>1</td>\n",
       "      <td>0.0463</td>\n",
       "      <td>124.959</td>\n",
       "      <td>4</td>\n",
       "      <td>0.1600</td>\n",
       "    </tr>\n",
       "    <tr>\n",
       "      <th>1</th>\n",
       "      <td>0.007800</td>\n",
       "      <td>0.448</td>\n",
       "      <td>259765</td>\n",
       "      <td>0.880</td>\n",
       "      <td>0LTq2r4sWXgrlJk5gfjanc</td>\n",
       "      <td>0.000011</td>\n",
       "      <td>8</td>\n",
       "      <td>0.0955</td>\n",
       "      <td>-3.076</td>\n",
       "      <td>1</td>\n",
       "      <td>0.1360</td>\n",
       "      <td>170.047</td>\n",
       "      <td>4</td>\n",
       "      <td>0.3940</td>\n",
       "    </tr>\n",
       "    <tr>\n",
       "      <th>2</th>\n",
       "      <td>0.013800</td>\n",
       "      <td>0.585</td>\n",
       "      <td>160312</td>\n",
       "      <td>0.933</td>\n",
       "      <td>0d04hp9JU5pkMoSFotxkmY</td>\n",
       "      <td>0.013200</td>\n",
       "      <td>6</td>\n",
       "      <td>0.2000</td>\n",
       "      <td>-3.927</td>\n",
       "      <td>0</td>\n",
       "      <td>0.0738</td>\n",
       "      <td>127.996</td>\n",
       "      <td>4</td>\n",
       "      <td>0.2620</td>\n",
       "    </tr>\n",
       "    <tr>\n",
       "      <th>3</th>\n",
       "      <td>0.001370</td>\n",
       "      <td>0.626</td>\n",
       "      <td>215630</td>\n",
       "      <td>0.856</td>\n",
       "      <td>144Jdqnukv2zebyt6vq9H8</td>\n",
       "      <td>0.533000</td>\n",
       "      <td>8</td>\n",
       "      <td>0.1610</td>\n",
       "      <td>-4.937</td>\n",
       "      <td>1</td>\n",
       "      <td>0.0565</td>\n",
       "      <td>127.989</td>\n",
       "      <td>4</td>\n",
       "      <td>0.3330</td>\n",
       "    </tr>\n",
       "    <tr>\n",
       "      <th>4</th>\n",
       "      <td>0.000319</td>\n",
       "      <td>0.503</td>\n",
       "      <td>224000</td>\n",
       "      <td>0.969</td>\n",
       "      <td>1LWM8ybNxkIWf8QqEafcP1</td>\n",
       "      <td>0.584000</td>\n",
       "      <td>9</td>\n",
       "      <td>0.3620</td>\n",
       "      <td>-5.737</td>\n",
       "      <td>1</td>\n",
       "      <td>0.0405</td>\n",
       "      <td>139.981</td>\n",
       "      <td>4</td>\n",
       "      <td>0.2880</td>\n",
       "    </tr>\n",
       "    <tr>\n",
       "      <th>5</th>\n",
       "      <td>0.220000</td>\n",
       "      <td>0.534</td>\n",
       "      <td>206757</td>\n",
       "      <td>0.920</td>\n",
       "      <td>4weZBTWBtfQQRUJKVMZOsE</td>\n",
       "      <td>0.000000</td>\n",
       "      <td>0</td>\n",
       "      <td>0.1860</td>\n",
       "      <td>-2.555</td>\n",
       "      <td>1</td>\n",
       "      <td>0.0673</td>\n",
       "      <td>154.673</td>\n",
       "      <td>4</td>\n",
       "      <td>0.4410</td>\n",
       "    </tr>\n",
       "    <tr>\n",
       "      <th>6</th>\n",
       "      <td>0.019800</td>\n",
       "      <td>0.362</td>\n",
       "      <td>253492</td>\n",
       "      <td>0.926</td>\n",
       "      <td>1swtjhwXhJlYtuzqXKfQoD</td>\n",
       "      <td>0.069700</td>\n",
       "      <td>2</td>\n",
       "      <td>0.1060</td>\n",
       "      <td>-4.175</td>\n",
       "      <td>1</td>\n",
       "      <td>0.1090</td>\n",
       "      <td>127.933</td>\n",
       "      <td>4</td>\n",
       "      <td>0.1400</td>\n",
       "    </tr>\n",
       "    <tr>\n",
       "      <th>7</th>\n",
       "      <td>0.032800</td>\n",
       "      <td>0.519</td>\n",
       "      <td>278710</td>\n",
       "      <td>0.629</td>\n",
       "      <td>1uSAGG6FRvrjI22HyGDayU</td>\n",
       "      <td>0.000841</td>\n",
       "      <td>0</td>\n",
       "      <td>0.1070</td>\n",
       "      <td>-5.745</td>\n",
       "      <td>0</td>\n",
       "      <td>0.0578</td>\n",
       "      <td>123.986</td>\n",
       "      <td>4</td>\n",
       "      <td>0.1020</td>\n",
       "    </tr>\n",
       "    <tr>\n",
       "      <th>8</th>\n",
       "      <td>0.001310</td>\n",
       "      <td>0.311</td>\n",
       "      <td>188618</td>\n",
       "      <td>0.820</td>\n",
       "      <td>2UkRIWOvxCYVpyqNTwy9dE</td>\n",
       "      <td>0.032300</td>\n",
       "      <td>0</td>\n",
       "      <td>0.4330</td>\n",
       "      <td>-8.751</td>\n",
       "      <td>0</td>\n",
       "      <td>0.0683</td>\n",
       "      <td>150.442</td>\n",
       "      <td>4</td>\n",
       "      <td>0.1300</td>\n",
       "    </tr>\n",
       "    <tr>\n",
       "      <th>9</th>\n",
       "      <td>0.035300</td>\n",
       "      <td>0.563</td>\n",
       "      <td>163304</td>\n",
       "      <td>0.871</td>\n",
       "      <td>303QJcPey7DrwoIQzHAEjm</td>\n",
       "      <td>0.775000</td>\n",
       "      <td>6</td>\n",
       "      <td>0.1350</td>\n",
       "      <td>-5.266</td>\n",
       "      <td>0</td>\n",
       "      <td>0.0584</td>\n",
       "      <td>149.939</td>\n",
       "      <td>4</td>\n",
       "      <td>0.5060</td>\n",
       "    </tr>\n",
       "    <tr>\n",
       "      <th>10</th>\n",
       "      <td>0.007530</td>\n",
       "      <td>0.473</td>\n",
       "      <td>214888</td>\n",
       "      <td>0.893</td>\n",
       "      <td>3F1hkIYH8AImRNIqbKSMXQ</td>\n",
       "      <td>0.000018</td>\n",
       "      <td>6</td>\n",
       "      <td>0.4810</td>\n",
       "      <td>-6.079</td>\n",
       "      <td>0</td>\n",
       "      <td>0.0717</td>\n",
       "      <td>130.108</td>\n",
       "      <td>4</td>\n",
       "      <td>0.2470</td>\n",
       "    </tr>\n",
       "    <tr>\n",
       "      <th>11</th>\n",
       "      <td>0.000230</td>\n",
       "      <td>0.528</td>\n",
       "      <td>202977</td>\n",
       "      <td>0.909</td>\n",
       "      <td>1H4M2sr1CA1pOkg35btO0C</td>\n",
       "      <td>0.191000</td>\n",
       "      <td>1</td>\n",
       "      <td>0.3790</td>\n",
       "      <td>-5.182</td>\n",
       "      <td>0</td>\n",
       "      <td>0.0378</td>\n",
       "      <td>137.942</td>\n",
       "      <td>3</td>\n",
       "      <td>0.3750</td>\n",
       "    </tr>\n",
       "    <tr>\n",
       "      <th>12</th>\n",
       "      <td>0.003680</td>\n",
       "      <td>0.578</td>\n",
       "      <td>219813</td>\n",
       "      <td>0.695</td>\n",
       "      <td>46L9j7CjtctvVNSZTmEJrx</td>\n",
       "      <td>0.000000</td>\n",
       "      <td>7</td>\n",
       "      <td>0.3070</td>\n",
       "      <td>-5.531</td>\n",
       "      <td>1</td>\n",
       "      <td>0.0360</td>\n",
       "      <td>107.003</td>\n",
       "      <td>4</td>\n",
       "      <td>0.1680</td>\n",
       "    </tr>\n",
       "    <tr>\n",
       "      <th>13</th>\n",
       "      <td>0.003370</td>\n",
       "      <td>0.545</td>\n",
       "      <td>188439</td>\n",
       "      <td>0.903</td>\n",
       "      <td>10IR5pzbX5dv4as7Uf7hts</td>\n",
       "      <td>0.938000</td>\n",
       "      <td>1</td>\n",
       "      <td>0.0479</td>\n",
       "      <td>-7.814</td>\n",
       "      <td>1</td>\n",
       "      <td>0.0438</td>\n",
       "      <td>130.027</td>\n",
       "      <td>4</td>\n",
       "      <td>0.4850</td>\n",
       "    </tr>\n",
       "    <tr>\n",
       "      <th>14</th>\n",
       "      <td>0.000011</td>\n",
       "      <td>0.461</td>\n",
       "      <td>189104</td>\n",
       "      <td>0.863</td>\n",
       "      <td>4SV8h3RlcuQc9jE9MUQfFF</td>\n",
       "      <td>0.747000</td>\n",
       "      <td>1</td>\n",
       "      <td>0.5050</td>\n",
       "      <td>-11.098</td>\n",
       "      <td>1</td>\n",
       "      <td>0.0440</td>\n",
       "      <td>132.006</td>\n",
       "      <td>4</td>\n",
       "      <td>0.0787</td>\n",
       "    </tr>\n",
       "    <tr>\n",
       "      <th>15</th>\n",
       "      <td>0.003790</td>\n",
       "      <td>0.419</td>\n",
       "      <td>243125</td>\n",
       "      <td>0.846</td>\n",
       "      <td>4bKEp7eKqNGySpKZX5mCed</td>\n",
       "      <td>0.008460</td>\n",
       "      <td>8</td>\n",
       "      <td>0.5080</td>\n",
       "      <td>-5.252</td>\n",
       "      <td>0</td>\n",
       "      <td>0.1270</td>\n",
       "      <td>149.968</td>\n",
       "      <td>4</td>\n",
       "      <td>0.0655</td>\n",
       "    </tr>\n",
       "    <tr>\n",
       "      <th>16</th>\n",
       "      <td>0.016100</td>\n",
       "      <td>0.615</td>\n",
       "      <td>210000</td>\n",
       "      <td>0.728</td>\n",
       "      <td>4yzc9GjCMUyG41cNeu7eiE</td>\n",
       "      <td>0.152000</td>\n",
       "      <td>4</td>\n",
       "      <td>0.1950</td>\n",
       "      <td>-3.270</td>\n",
       "      <td>0</td>\n",
       "      <td>0.0434</td>\n",
       "      <td>127.945</td>\n",
       "      <td>4</td>\n",
       "      <td>0.0394</td>\n",
       "    </tr>\n",
       "    <tr>\n",
       "      <th>17</th>\n",
       "      <td>0.006530</td>\n",
       "      <td>0.486</td>\n",
       "      <td>199826</td>\n",
       "      <td>0.957</td>\n",
       "      <td>55jk70uGhiwfFCGXJRhcNW</td>\n",
       "      <td>0.003180</td>\n",
       "      <td>4</td>\n",
       "      <td>0.3900</td>\n",
       "      <td>-3.349</td>\n",
       "      <td>0</td>\n",
       "      <td>0.0628</td>\n",
       "      <td>131.917</td>\n",
       "      <td>4</td>\n",
       "      <td>0.2550</td>\n",
       "    </tr>\n",
       "    <tr>\n",
       "      <th>18</th>\n",
       "      <td>0.000405</td>\n",
       "      <td>0.546</td>\n",
       "      <td>236000</td>\n",
       "      <td>0.829</td>\n",
       "      <td>56ktw0cBP5vGO5pmUsy9q4</td>\n",
       "      <td>0.704000</td>\n",
       "      <td>7</td>\n",
       "      <td>0.1440</td>\n",
       "      <td>-9.006</td>\n",
       "      <td>1</td>\n",
       "      <td>0.0694</td>\n",
       "      <td>125.943</td>\n",
       "      <td>4</td>\n",
       "      <td>0.5780</td>\n",
       "    </tr>\n",
       "    <tr>\n",
       "      <th>19</th>\n",
       "      <td>0.001160</td>\n",
       "      <td>0.693</td>\n",
       "      <td>390000</td>\n",
       "      <td>0.925</td>\n",
       "      <td>5AfzDfY1NzipDdfbVBCzlM</td>\n",
       "      <td>0.017400</td>\n",
       "      <td>5</td>\n",
       "      <td>0.3290</td>\n",
       "      <td>-4.990</td>\n",
       "      <td>0</td>\n",
       "      <td>0.3530</td>\n",
       "      <td>127.994</td>\n",
       "      <td>4</td>\n",
       "      <td>0.2060</td>\n",
       "    </tr>\n",
       "    <tr>\n",
       "      <th>20</th>\n",
       "      <td>0.004480</td>\n",
       "      <td>0.502</td>\n",
       "      <td>195954</td>\n",
       "      <td>0.917</td>\n",
       "      <td>5GO9eq5Xu2G8waqwjZjUYI</td>\n",
       "      <td>0.001000</td>\n",
       "      <td>7</td>\n",
       "      <td>0.1390</td>\n",
       "      <td>-4.216</td>\n",
       "      <td>0</td>\n",
       "      <td>0.0732</td>\n",
       "      <td>75.997</td>\n",
       "      <td>4</td>\n",
       "      <td>0.1300</td>\n",
       "    </tr>\n",
       "    <tr>\n",
       "      <th>21</th>\n",
       "      <td>0.000845</td>\n",
       "      <td>0.583</td>\n",
       "      <td>206871</td>\n",
       "      <td>0.972</td>\n",
       "      <td>5MEgfTEmK5KeRAoQo6W5rM</td>\n",
       "      <td>0.708000</td>\n",
       "      <td>1</td>\n",
       "      <td>0.0945</td>\n",
       "      <td>-2.392</td>\n",
       "      <td>1</td>\n",
       "      <td>0.0933</td>\n",
       "      <td>159.989</td>\n",
       "      <td>4</td>\n",
       "      <td>0.3290</td>\n",
       "    </tr>\n",
       "    <tr>\n",
       "      <th>22</th>\n",
       "      <td>0.002450</td>\n",
       "      <td>0.413</td>\n",
       "      <td>231360</td>\n",
       "      <td>0.755</td>\n",
       "      <td>5dZlxXy2MxUWQ7buue0f62</td>\n",
       "      <td>0.000165</td>\n",
       "      <td>6</td>\n",
       "      <td>0.2810</td>\n",
       "      <td>-5.565</td>\n",
       "      <td>0</td>\n",
       "      <td>0.0507</td>\n",
       "      <td>125.484</td>\n",
       "      <td>4</td>\n",
       "      <td>0.0650</td>\n",
       "    </tr>\n",
       "    <tr>\n",
       "      <th>23</th>\n",
       "      <td>0.008630</td>\n",
       "      <td>0.533</td>\n",
       "      <td>229500</td>\n",
       "      <td>0.880</td>\n",
       "      <td>6MrKIOtWxBnDXycdZmQvrt</td>\n",
       "      <td>0.016100</td>\n",
       "      <td>8</td>\n",
       "      <td>0.1420</td>\n",
       "      <td>-6.398</td>\n",
       "      <td>0</td>\n",
       "      <td>0.0831</td>\n",
       "      <td>150.044</td>\n",
       "      <td>4</td>\n",
       "      <td>0.5030</td>\n",
       "    </tr>\n",
       "    <tr>\n",
       "      <th>24</th>\n",
       "      <td>0.219000</td>\n",
       "      <td>0.642</td>\n",
       "      <td>254770</td>\n",
       "      <td>0.659</td>\n",
       "      <td>6aeqAwf4vfQeWFSjmgZCEB</td>\n",
       "      <td>0.000000</td>\n",
       "      <td>5</td>\n",
       "      <td>0.5850</td>\n",
       "      <td>-6.941</td>\n",
       "      <td>0</td>\n",
       "      <td>0.2520</td>\n",
       "      <td>130.016</td>\n",
       "      <td>4</td>\n",
       "      <td>0.4320</td>\n",
       "    </tr>\n",
       "    <tr>\n",
       "      <th>25</th>\n",
       "      <td>0.000173</td>\n",
       "      <td>0.647</td>\n",
       "      <td>392571</td>\n",
       "      <td>0.855</td>\n",
       "      <td>74TdUlQYu09uAgZEbBZ58j</td>\n",
       "      <td>0.892000</td>\n",
       "      <td>0</td>\n",
       "      <td>0.0998</td>\n",
       "      <td>-6.379</td>\n",
       "      <td>1</td>\n",
       "      <td>0.0390</td>\n",
       "      <td>139.992</td>\n",
       "      <td>4</td>\n",
       "      <td>0.1690</td>\n",
       "    </tr>\n",
       "    <tr>\n",
       "      <th>26</th>\n",
       "      <td>0.142000</td>\n",
       "      <td>0.527</td>\n",
       "      <td>202667</td>\n",
       "      <td>0.596</td>\n",
       "      <td>782YlCwsXdlu2myUme4zyu</td>\n",
       "      <td>0.000077</td>\n",
       "      <td>1</td>\n",
       "      <td>0.1860</td>\n",
       "      <td>-6.825</td>\n",
       "      <td>1</td>\n",
       "      <td>0.0479</td>\n",
       "      <td>180.003</td>\n",
       "      <td>4</td>\n",
       "      <td>0.0865</td>\n",
       "    </tr>\n",
       "    <tr>\n",
       "      <th>27</th>\n",
       "      <td>0.000422</td>\n",
       "      <td>0.568</td>\n",
       "      <td>352162</td>\n",
       "      <td>0.931</td>\n",
       "      <td>7Mcbk8CghT5wE6j4WfG2uQ</td>\n",
       "      <td>0.665000</td>\n",
       "      <td>4</td>\n",
       "      <td>0.1400</td>\n",
       "      <td>-7.077</td>\n",
       "      <td>0</td>\n",
       "      <td>0.0481</td>\n",
       "      <td>128.008</td>\n",
       "      <td>4</td>\n",
       "      <td>0.0420</td>\n",
       "    </tr>\n",
       "    <tr>\n",
       "      <th>28</th>\n",
       "      <td>0.000526</td>\n",
       "      <td>0.533</td>\n",
       "      <td>216579</td>\n",
       "      <td>0.963</td>\n",
       "      <td>7nGUyNRgzjQ4lnyvJqXvNO</td>\n",
       "      <td>0.708000</td>\n",
       "      <td>1</td>\n",
       "      <td>0.3880</td>\n",
       "      <td>-5.008</td>\n",
       "      <td>1</td>\n",
       "      <td>0.0481</td>\n",
       "      <td>133.041</td>\n",
       "      <td>4</td>\n",
       "      <td>0.0612</td>\n",
       "    </tr>\n",
       "    <tr>\n",
       "      <th>29</th>\n",
       "      <td>0.055300</td>\n",
       "      <td>0.456</td>\n",
       "      <td>218182</td>\n",
       "      <td>0.868</td>\n",
       "      <td>7sggd2ZlSvC10u6389Yn4k</td>\n",
       "      <td>0.002830</td>\n",
       "      <td>9</td>\n",
       "      <td>0.1850</td>\n",
       "      <td>-6.427</td>\n",
       "      <td>0</td>\n",
       "      <td>0.0496</td>\n",
       "      <td>131.912</td>\n",
       "      <td>4</td>\n",
       "      <td>0.3010</td>\n",
       "    </tr>\n",
       "    <tr>\n",
       "      <th>...</th>\n",
       "      <td>...</td>\n",
       "      <td>...</td>\n",
       "      <td>...</td>\n",
       "      <td>...</td>\n",
       "      <td>...</td>\n",
       "      <td>...</td>\n",
       "      <td>...</td>\n",
       "      <td>...</td>\n",
       "      <td>...</td>\n",
       "      <td>...</td>\n",
       "      <td>...</td>\n",
       "      <td>...</td>\n",
       "      <td>...</td>\n",
       "      <td>...</td>\n",
       "    </tr>\n",
       "    <tr>\n",
       "      <th>921</th>\n",
       "      <td>0.054500</td>\n",
       "      <td>0.561</td>\n",
       "      <td>189754</td>\n",
       "      <td>0.905</td>\n",
       "      <td>6z7LM4N54IRNJfH9n2dmla</td>\n",
       "      <td>0.005900</td>\n",
       "      <td>11</td>\n",
       "      <td>0.0872</td>\n",
       "      <td>-5.305</td>\n",
       "      <td>0</td>\n",
       "      <td>0.1610</td>\n",
       "      <td>127.962</td>\n",
       "      <td>4</td>\n",
       "      <td>0.3730</td>\n",
       "    </tr>\n",
       "    <tr>\n",
       "      <th>922</th>\n",
       "      <td>0.046500</td>\n",
       "      <td>0.728</td>\n",
       "      <td>266344</td>\n",
       "      <td>0.777</td>\n",
       "      <td>0QbmgtJumFrnhunEljYLdm</td>\n",
       "      <td>0.853000</td>\n",
       "      <td>8</td>\n",
       "      <td>0.1350</td>\n",
       "      <td>-7.837</td>\n",
       "      <td>0</td>\n",
       "      <td>0.0545</td>\n",
       "      <td>128.024</td>\n",
       "      <td>4</td>\n",
       "      <td>0.1800</td>\n",
       "    </tr>\n",
       "    <tr>\n",
       "      <th>923</th>\n",
       "      <td>0.002640</td>\n",
       "      <td>0.507</td>\n",
       "      <td>181943</td>\n",
       "      <td>0.861</td>\n",
       "      <td>0HnV5R4fBuNCoh6XDetQmj</td>\n",
       "      <td>0.001010</td>\n",
       "      <td>3</td>\n",
       "      <td>0.6430</td>\n",
       "      <td>-3.302</td>\n",
       "      <td>0</td>\n",
       "      <td>0.0938</td>\n",
       "      <td>127.964</td>\n",
       "      <td>4</td>\n",
       "      <td>0.2380</td>\n",
       "    </tr>\n",
       "    <tr>\n",
       "      <th>924</th>\n",
       "      <td>0.000823</td>\n",
       "      <td>0.527</td>\n",
       "      <td>403453</td>\n",
       "      <td>0.870</td>\n",
       "      <td>0wkEdDhLfUbJWsiBcdSn1S</td>\n",
       "      <td>0.819000</td>\n",
       "      <td>0</td>\n",
       "      <td>0.1580</td>\n",
       "      <td>-8.897</td>\n",
       "      <td>0</td>\n",
       "      <td>0.0361</td>\n",
       "      <td>138.014</td>\n",
       "      <td>4</td>\n",
       "      <td>0.2240</td>\n",
       "    </tr>\n",
       "    <tr>\n",
       "      <th>925</th>\n",
       "      <td>0.029400</td>\n",
       "      <td>0.452</td>\n",
       "      <td>189787</td>\n",
       "      <td>0.848</td>\n",
       "      <td>142jMpGhzJl0E7twPAkbY2</td>\n",
       "      <td>0.000000</td>\n",
       "      <td>1</td>\n",
       "      <td>0.7200</td>\n",
       "      <td>-4.036</td>\n",
       "      <td>0</td>\n",
       "      <td>0.0486</td>\n",
       "      <td>127.933</td>\n",
       "      <td>4</td>\n",
       "      <td>0.1480</td>\n",
       "    </tr>\n",
       "    <tr>\n",
       "      <th>926</th>\n",
       "      <td>0.372000</td>\n",
       "      <td>0.701</td>\n",
       "      <td>167419</td>\n",
       "      <td>0.883</td>\n",
       "      <td>18VPI5WxIe5gFUf9FLLWfS</td>\n",
       "      <td>0.000025</td>\n",
       "      <td>9</td>\n",
       "      <td>0.1990</td>\n",
       "      <td>-2.722</td>\n",
       "      <td>0</td>\n",
       "      <td>0.1950</td>\n",
       "      <td>124.012</td>\n",
       "      <td>4</td>\n",
       "      <td>0.4720</td>\n",
       "    </tr>\n",
       "    <tr>\n",
       "      <th>927</th>\n",
       "      <td>0.101000</td>\n",
       "      <td>0.611</td>\n",
       "      <td>195767</td>\n",
       "      <td>0.986</td>\n",
       "      <td>1EhCqGJfNj4LImGbnpEzXo</td>\n",
       "      <td>0.000028</td>\n",
       "      <td>11</td>\n",
       "      <td>0.1060</td>\n",
       "      <td>-1.330</td>\n",
       "      <td>0</td>\n",
       "      <td>0.2120</td>\n",
       "      <td>144.016</td>\n",
       "      <td>4</td>\n",
       "      <td>0.3820</td>\n",
       "    </tr>\n",
       "    <tr>\n",
       "      <th>928</th>\n",
       "      <td>0.006070</td>\n",
       "      <td>0.273</td>\n",
       "      <td>173913</td>\n",
       "      <td>0.981</td>\n",
       "      <td>1G0Fs0eAznJy9sPf1LwOGr</td>\n",
       "      <td>0.404000</td>\n",
       "      <td>5</td>\n",
       "      <td>0.5910</td>\n",
       "      <td>-4.056</td>\n",
       "      <td>1</td>\n",
       "      <td>0.0725</td>\n",
       "      <td>103.480</td>\n",
       "      <td>4</td>\n",
       "      <td>0.1740</td>\n",
       "    </tr>\n",
       "    <tr>\n",
       "      <th>929</th>\n",
       "      <td>0.025300</td>\n",
       "      <td>0.887</td>\n",
       "      <td>160106</td>\n",
       "      <td>0.618</td>\n",
       "      <td>1TOs3Ih3404J9ExtugB7pl</td>\n",
       "      <td>0.148000</td>\n",
       "      <td>2</td>\n",
       "      <td>0.3260</td>\n",
       "      <td>-4.950</td>\n",
       "      <td>1</td>\n",
       "      <td>0.0788</td>\n",
       "      <td>128.011</td>\n",
       "      <td>4</td>\n",
       "      <td>0.4490</td>\n",
       "    </tr>\n",
       "    <tr>\n",
       "      <th>930</th>\n",
       "      <td>0.049500</td>\n",
       "      <td>0.704</td>\n",
       "      <td>176129</td>\n",
       "      <td>0.905</td>\n",
       "      <td>1oRy2CCBaWCVqJRkmyGWLx</td>\n",
       "      <td>0.000165</td>\n",
       "      <td>1</td>\n",
       "      <td>0.3390</td>\n",
       "      <td>-4.959</td>\n",
       "      <td>0</td>\n",
       "      <td>0.1240</td>\n",
       "      <td>123.968</td>\n",
       "      <td>4</td>\n",
       "      <td>0.4190</td>\n",
       "    </tr>\n",
       "    <tr>\n",
       "      <th>931</th>\n",
       "      <td>0.039800</td>\n",
       "      <td>0.623</td>\n",
       "      <td>251250</td>\n",
       "      <td>0.737</td>\n",
       "      <td>2R0Jp0FUcLnXRJsUhdCrhq</td>\n",
       "      <td>0.000025</td>\n",
       "      <td>6</td>\n",
       "      <td>0.1410</td>\n",
       "      <td>-4.725</td>\n",
       "      <td>0</td>\n",
       "      <td>0.0560</td>\n",
       "      <td>128.007</td>\n",
       "      <td>4</td>\n",
       "      <td>0.3810</td>\n",
       "    </tr>\n",
       "    <tr>\n",
       "      <th>932</th>\n",
       "      <td>0.000158</td>\n",
       "      <td>0.565</td>\n",
       "      <td>159375</td>\n",
       "      <td>0.977</td>\n",
       "      <td>2ZfQyCU4ZGHRXlOIJOqw4e</td>\n",
       "      <td>0.876000</td>\n",
       "      <td>1</td>\n",
       "      <td>0.2070</td>\n",
       "      <td>-2.202</td>\n",
       "      <td>1</td>\n",
       "      <td>0.0820</td>\n",
       "      <td>127.983</td>\n",
       "      <td>4</td>\n",
       "      <td>0.2650</td>\n",
       "    </tr>\n",
       "    <tr>\n",
       "      <th>933</th>\n",
       "      <td>0.024800</td>\n",
       "      <td>0.777</td>\n",
       "      <td>299130</td>\n",
       "      <td>0.829</td>\n",
       "      <td>39y4GUCaWhC4BKArUUhE8p</td>\n",
       "      <td>0.877000</td>\n",
       "      <td>5</td>\n",
       "      <td>0.0812</td>\n",
       "      <td>-8.859</td>\n",
       "      <td>0</td>\n",
       "      <td>0.0854</td>\n",
       "      <td>138.013</td>\n",
       "      <td>4</td>\n",
       "      <td>0.0774</td>\n",
       "    </tr>\n",
       "    <tr>\n",
       "      <th>934</th>\n",
       "      <td>0.000599</td>\n",
       "      <td>0.593</td>\n",
       "      <td>213658</td>\n",
       "      <td>0.937</td>\n",
       "      <td>3G8JTITtEFBHAHNSlrgVR4</td>\n",
       "      <td>0.865000</td>\n",
       "      <td>9</td>\n",
       "      <td>0.0790</td>\n",
       "      <td>-4.357</td>\n",
       "      <td>0</td>\n",
       "      <td>0.0722</td>\n",
       "      <td>128.033</td>\n",
       "      <td>4</td>\n",
       "      <td>0.1220</td>\n",
       "    </tr>\n",
       "    <tr>\n",
       "      <th>935</th>\n",
       "      <td>0.037700</td>\n",
       "      <td>0.365</td>\n",
       "      <td>179501</td>\n",
       "      <td>0.705</td>\n",
       "      <td>3XussQ7yygu3uoAPEDlwhi</td>\n",
       "      <td>0.258000</td>\n",
       "      <td>6</td>\n",
       "      <td>0.3960</td>\n",
       "      <td>-5.984</td>\n",
       "      <td>0</td>\n",
       "      <td>0.0887</td>\n",
       "      <td>148.230</td>\n",
       "      <td>4</td>\n",
       "      <td>0.2290</td>\n",
       "    </tr>\n",
       "    <tr>\n",
       "      <th>936</th>\n",
       "      <td>0.000048</td>\n",
       "      <td>0.486</td>\n",
       "      <td>182538</td>\n",
       "      <td>0.898</td>\n",
       "      <td>454pTBJhThN8MhQUyKCDn8</td>\n",
       "      <td>0.003300</td>\n",
       "      <td>7</td>\n",
       "      <td>0.2760</td>\n",
       "      <td>-5.491</td>\n",
       "      <td>1</td>\n",
       "      <td>0.0326</td>\n",
       "      <td>129.985</td>\n",
       "      <td>4</td>\n",
       "      <td>0.0566</td>\n",
       "    </tr>\n",
       "    <tr>\n",
       "      <th>937</th>\n",
       "      <td>0.000104</td>\n",
       "      <td>0.577</td>\n",
       "      <td>206830</td>\n",
       "      <td>0.945</td>\n",
       "      <td>0DNburPSI37graB2ueQo20</td>\n",
       "      <td>0.752000</td>\n",
       "      <td>8</td>\n",
       "      <td>0.1740</td>\n",
       "      <td>-5.055</td>\n",
       "      <td>1</td>\n",
       "      <td>0.1130</td>\n",
       "      <td>146.049</td>\n",
       "      <td>4</td>\n",
       "      <td>0.3230</td>\n",
       "    </tr>\n",
       "    <tr>\n",
       "      <th>938</th>\n",
       "      <td>0.005320</td>\n",
       "      <td>0.622</td>\n",
       "      <td>246771</td>\n",
       "      <td>0.920</td>\n",
       "      <td>4ucGYVIyKSyWSr5pXU85yR</td>\n",
       "      <td>0.122000</td>\n",
       "      <td>5</td>\n",
       "      <td>0.0783</td>\n",
       "      <td>-6.347</td>\n",
       "      <td>0</td>\n",
       "      <td>0.1500</td>\n",
       "      <td>144.016</td>\n",
       "      <td>4</td>\n",
       "      <td>0.0620</td>\n",
       "    </tr>\n",
       "    <tr>\n",
       "      <th>939</th>\n",
       "      <td>0.013900</td>\n",
       "      <td>0.618</td>\n",
       "      <td>243474</td>\n",
       "      <td>0.905</td>\n",
       "      <td>5ODbolFek8icPQDO7ZEeHP</td>\n",
       "      <td>0.195000</td>\n",
       "      <td>4</td>\n",
       "      <td>0.0620</td>\n",
       "      <td>-4.529</td>\n",
       "      <td>0</td>\n",
       "      <td>0.0921</td>\n",
       "      <td>138.018</td>\n",
       "      <td>4</td>\n",
       "      <td>0.1840</td>\n",
       "    </tr>\n",
       "    <tr>\n",
       "      <th>940</th>\n",
       "      <td>0.020200</td>\n",
       "      <td>0.623</td>\n",
       "      <td>229192</td>\n",
       "      <td>0.855</td>\n",
       "      <td>5lrKqbQQgG4QkWpCcFjZT8</td>\n",
       "      <td>0.893000</td>\n",
       "      <td>9</td>\n",
       "      <td>0.2970</td>\n",
       "      <td>-8.758</td>\n",
       "      <td>0</td>\n",
       "      <td>0.0301</td>\n",
       "      <td>140.111</td>\n",
       "      <td>4</td>\n",
       "      <td>0.3950</td>\n",
       "    </tr>\n",
       "    <tr>\n",
       "      <th>941</th>\n",
       "      <td>0.004650</td>\n",
       "      <td>0.783</td>\n",
       "      <td>237923</td>\n",
       "      <td>0.711</td>\n",
       "      <td>6SgM24gAhunbOMPDkIllNw</td>\n",
       "      <td>0.818000</td>\n",
       "      <td>0</td>\n",
       "      <td>0.1110</td>\n",
       "      <td>-4.923</td>\n",
       "      <td>1</td>\n",
       "      <td>0.1220</td>\n",
       "      <td>142.974</td>\n",
       "      <td>4</td>\n",
       "      <td>0.1390</td>\n",
       "    </tr>\n",
       "    <tr>\n",
       "      <th>942</th>\n",
       "      <td>0.045700</td>\n",
       "      <td>0.529</td>\n",
       "      <td>215997</td>\n",
       "      <td>0.826</td>\n",
       "      <td>6ataxZgJtC7OROpznt1V5A</td>\n",
       "      <td>0.000084</td>\n",
       "      <td>3</td>\n",
       "      <td>0.1720</td>\n",
       "      <td>-5.293</td>\n",
       "      <td>0</td>\n",
       "      <td>0.0396</td>\n",
       "      <td>130.079</td>\n",
       "      <td>4</td>\n",
       "      <td>0.3690</td>\n",
       "    </tr>\n",
       "    <tr>\n",
       "      <th>943</th>\n",
       "      <td>0.000670</td>\n",
       "      <td>0.406</td>\n",
       "      <td>195053</td>\n",
       "      <td>0.744</td>\n",
       "      <td>6cxOCfqWLoIhiTXLRZQW7L</td>\n",
       "      <td>0.000000</td>\n",
       "      <td>2</td>\n",
       "      <td>0.6440</td>\n",
       "      <td>-6.995</td>\n",
       "      <td>1</td>\n",
       "      <td>0.0313</td>\n",
       "      <td>171.011</td>\n",
       "      <td>4</td>\n",
       "      <td>0.7040</td>\n",
       "    </tr>\n",
       "    <tr>\n",
       "      <th>944</th>\n",
       "      <td>0.004000</td>\n",
       "      <td>0.824</td>\n",
       "      <td>210732</td>\n",
       "      <td>0.867</td>\n",
       "      <td>6dqvyjRaNVP8ALsm4WZNLH</td>\n",
       "      <td>0.870000</td>\n",
       "      <td>3</td>\n",
       "      <td>0.1950</td>\n",
       "      <td>-4.674</td>\n",
       "      <td>0</td>\n",
       "      <td>0.0418</td>\n",
       "      <td>122.989</td>\n",
       "      <td>4</td>\n",
       "      <td>0.3380</td>\n",
       "    </tr>\n",
       "    <tr>\n",
       "      <th>945</th>\n",
       "      <td>0.002840</td>\n",
       "      <td>0.554</td>\n",
       "      <td>277412</td>\n",
       "      <td>0.974</td>\n",
       "      <td>6e5vXe4E9GT7juN4gT2DYd</td>\n",
       "      <td>0.417000</td>\n",
       "      <td>6</td>\n",
       "      <td>0.1070</td>\n",
       "      <td>-4.713</td>\n",
       "      <td>0</td>\n",
       "      <td>0.0743</td>\n",
       "      <td>169.943</td>\n",
       "      <td>4</td>\n",
       "      <td>0.4700</td>\n",
       "    </tr>\n",
       "    <tr>\n",
       "      <th>946</th>\n",
       "      <td>0.017100</td>\n",
       "      <td>0.539</td>\n",
       "      <td>216021</td>\n",
       "      <td>0.887</td>\n",
       "      <td>6gbilykEMv3ahTQNT6W570</td>\n",
       "      <td>0.000030</td>\n",
       "      <td>1</td>\n",
       "      <td>0.0680</td>\n",
       "      <td>-6.905</td>\n",
       "      <td>1</td>\n",
       "      <td>0.0582</td>\n",
       "      <td>150.017</td>\n",
       "      <td>4</td>\n",
       "      <td>0.3470</td>\n",
       "    </tr>\n",
       "    <tr>\n",
       "      <th>947</th>\n",
       "      <td>0.001060</td>\n",
       "      <td>0.499</td>\n",
       "      <td>169008</td>\n",
       "      <td>0.853</td>\n",
       "      <td>3u3YMLtbaogSOhyLMLVU0c</td>\n",
       "      <td>0.001040</td>\n",
       "      <td>10</td>\n",
       "      <td>0.2600</td>\n",
       "      <td>-5.626</td>\n",
       "      <td>0</td>\n",
       "      <td>0.0654</td>\n",
       "      <td>148.003</td>\n",
       "      <td>4</td>\n",
       "      <td>0.1120</td>\n",
       "    </tr>\n",
       "    <tr>\n",
       "      <th>948</th>\n",
       "      <td>0.001860</td>\n",
       "      <td>0.509</td>\n",
       "      <td>162026</td>\n",
       "      <td>0.574</td>\n",
       "      <td>777lzBBmmHCv1d0ADMjRcL</td>\n",
       "      <td>0.000000</td>\n",
       "      <td>0</td>\n",
       "      <td>0.2580</td>\n",
       "      <td>-7.541</td>\n",
       "      <td>1</td>\n",
       "      <td>0.0361</td>\n",
       "      <td>169.918</td>\n",
       "      <td>4</td>\n",
       "      <td>0.3320</td>\n",
       "    </tr>\n",
       "    <tr>\n",
       "      <th>949</th>\n",
       "      <td>0.000834</td>\n",
       "      <td>0.322</td>\n",
       "      <td>210270</td>\n",
       "      <td>0.862</td>\n",
       "      <td>4m9AUXzAE0YkO33xzpLCKc</td>\n",
       "      <td>0.019800</td>\n",
       "      <td>0</td>\n",
       "      <td>0.4110</td>\n",
       "      <td>-9.165</td>\n",
       "      <td>0</td>\n",
       "      <td>0.0861</td>\n",
       "      <td>138.444</td>\n",
       "      <td>4</td>\n",
       "      <td>0.2170</td>\n",
       "    </tr>\n",
       "    <tr>\n",
       "      <th>950</th>\n",
       "      <td>0.063000</td>\n",
       "      <td>0.662</td>\n",
       "      <td>200117</td>\n",
       "      <td>0.954</td>\n",
       "      <td>7rnQUKsOAzWhPsb92ktyNF</td>\n",
       "      <td>0.010400</td>\n",
       "      <td>10</td>\n",
       "      <td>0.0653</td>\n",
       "      <td>-3.347</td>\n",
       "      <td>1</td>\n",
       "      <td>0.0481</td>\n",
       "      <td>127.928</td>\n",
       "      <td>4</td>\n",
       "      <td>0.2550</td>\n",
       "    </tr>\n",
       "  </tbody>\n",
       "</table>\n",
       "<p>945 rows × 14 columns</p>\n",
       "</div>"
      ],
      "text/plain": [
       "     acousticness  danceability  duration_ms  energy                      id  \\\n",
       "0        0.011500         0.684       243840   0.918  01FwoJVHy55BqEzf9hTtyf   \n",
       "1        0.007800         0.448       259765   0.880  0LTq2r4sWXgrlJk5gfjanc   \n",
       "2        0.013800         0.585       160312   0.933  0d04hp9JU5pkMoSFotxkmY   \n",
       "3        0.001370         0.626       215630   0.856  144Jdqnukv2zebyt6vq9H8   \n",
       "4        0.000319         0.503       224000   0.969  1LWM8ybNxkIWf8QqEafcP1   \n",
       "5        0.220000         0.534       206757   0.920  4weZBTWBtfQQRUJKVMZOsE   \n",
       "6        0.019800         0.362       253492   0.926  1swtjhwXhJlYtuzqXKfQoD   \n",
       "7        0.032800         0.519       278710   0.629  1uSAGG6FRvrjI22HyGDayU   \n",
       "8        0.001310         0.311       188618   0.820  2UkRIWOvxCYVpyqNTwy9dE   \n",
       "9        0.035300         0.563       163304   0.871  303QJcPey7DrwoIQzHAEjm   \n",
       "10       0.007530         0.473       214888   0.893  3F1hkIYH8AImRNIqbKSMXQ   \n",
       "11       0.000230         0.528       202977   0.909  1H4M2sr1CA1pOkg35btO0C   \n",
       "12       0.003680         0.578       219813   0.695  46L9j7CjtctvVNSZTmEJrx   \n",
       "13       0.003370         0.545       188439   0.903  10IR5pzbX5dv4as7Uf7hts   \n",
       "14       0.000011         0.461       189104   0.863  4SV8h3RlcuQc9jE9MUQfFF   \n",
       "15       0.003790         0.419       243125   0.846  4bKEp7eKqNGySpKZX5mCed   \n",
       "16       0.016100         0.615       210000   0.728  4yzc9GjCMUyG41cNeu7eiE   \n",
       "17       0.006530         0.486       199826   0.957  55jk70uGhiwfFCGXJRhcNW   \n",
       "18       0.000405         0.546       236000   0.829  56ktw0cBP5vGO5pmUsy9q4   \n",
       "19       0.001160         0.693       390000   0.925  5AfzDfY1NzipDdfbVBCzlM   \n",
       "20       0.004480         0.502       195954   0.917  5GO9eq5Xu2G8waqwjZjUYI   \n",
       "21       0.000845         0.583       206871   0.972  5MEgfTEmK5KeRAoQo6W5rM   \n",
       "22       0.002450         0.413       231360   0.755  5dZlxXy2MxUWQ7buue0f62   \n",
       "23       0.008630         0.533       229500   0.880  6MrKIOtWxBnDXycdZmQvrt   \n",
       "24       0.219000         0.642       254770   0.659  6aeqAwf4vfQeWFSjmgZCEB   \n",
       "25       0.000173         0.647       392571   0.855  74TdUlQYu09uAgZEbBZ58j   \n",
       "26       0.142000         0.527       202667   0.596  782YlCwsXdlu2myUme4zyu   \n",
       "27       0.000422         0.568       352162   0.931  7Mcbk8CghT5wE6j4WfG2uQ   \n",
       "28       0.000526         0.533       216579   0.963  7nGUyNRgzjQ4lnyvJqXvNO   \n",
       "29       0.055300         0.456       218182   0.868  7sggd2ZlSvC10u6389Yn4k   \n",
       "..            ...           ...          ...     ...                     ...   \n",
       "921      0.054500         0.561       189754   0.905  6z7LM4N54IRNJfH9n2dmla   \n",
       "922      0.046500         0.728       266344   0.777  0QbmgtJumFrnhunEljYLdm   \n",
       "923      0.002640         0.507       181943   0.861  0HnV5R4fBuNCoh6XDetQmj   \n",
       "924      0.000823         0.527       403453   0.870  0wkEdDhLfUbJWsiBcdSn1S   \n",
       "925      0.029400         0.452       189787   0.848  142jMpGhzJl0E7twPAkbY2   \n",
       "926      0.372000         0.701       167419   0.883  18VPI5WxIe5gFUf9FLLWfS   \n",
       "927      0.101000         0.611       195767   0.986  1EhCqGJfNj4LImGbnpEzXo   \n",
       "928      0.006070         0.273       173913   0.981  1G0Fs0eAznJy9sPf1LwOGr   \n",
       "929      0.025300         0.887       160106   0.618  1TOs3Ih3404J9ExtugB7pl   \n",
       "930      0.049500         0.704       176129   0.905  1oRy2CCBaWCVqJRkmyGWLx   \n",
       "931      0.039800         0.623       251250   0.737  2R0Jp0FUcLnXRJsUhdCrhq   \n",
       "932      0.000158         0.565       159375   0.977  2ZfQyCU4ZGHRXlOIJOqw4e   \n",
       "933      0.024800         0.777       299130   0.829  39y4GUCaWhC4BKArUUhE8p   \n",
       "934      0.000599         0.593       213658   0.937  3G8JTITtEFBHAHNSlrgVR4   \n",
       "935      0.037700         0.365       179501   0.705  3XussQ7yygu3uoAPEDlwhi   \n",
       "936      0.000048         0.486       182538   0.898  454pTBJhThN8MhQUyKCDn8   \n",
       "937      0.000104         0.577       206830   0.945  0DNburPSI37graB2ueQo20   \n",
       "938      0.005320         0.622       246771   0.920  4ucGYVIyKSyWSr5pXU85yR   \n",
       "939      0.013900         0.618       243474   0.905  5ODbolFek8icPQDO7ZEeHP   \n",
       "940      0.020200         0.623       229192   0.855  5lrKqbQQgG4QkWpCcFjZT8   \n",
       "941      0.004650         0.783       237923   0.711  6SgM24gAhunbOMPDkIllNw   \n",
       "942      0.045700         0.529       215997   0.826  6ataxZgJtC7OROpznt1V5A   \n",
       "943      0.000670         0.406       195053   0.744  6cxOCfqWLoIhiTXLRZQW7L   \n",
       "944      0.004000         0.824       210732   0.867  6dqvyjRaNVP8ALsm4WZNLH   \n",
       "945      0.002840         0.554       277412   0.974  6e5vXe4E9GT7juN4gT2DYd   \n",
       "946      0.017100         0.539       216021   0.887  6gbilykEMv3ahTQNT6W570   \n",
       "947      0.001060         0.499       169008   0.853  3u3YMLtbaogSOhyLMLVU0c   \n",
       "948      0.001860         0.509       162026   0.574  777lzBBmmHCv1d0ADMjRcL   \n",
       "949      0.000834         0.322       210270   0.862  4m9AUXzAE0YkO33xzpLCKc   \n",
       "950      0.063000         0.662       200117   0.954  7rnQUKsOAzWhPsb92ktyNF   \n",
       "\n",
       "     instrumentalness  key  liveness  loudness  mode  speechiness    tempo  \\\n",
       "0            0.133000    5    0.1310    -3.389     1       0.0463  124.959   \n",
       "1            0.000011    8    0.0955    -3.076     1       0.1360  170.047   \n",
       "2            0.013200    6    0.2000    -3.927     0       0.0738  127.996   \n",
       "3            0.533000    8    0.1610    -4.937     1       0.0565  127.989   \n",
       "4            0.584000    9    0.3620    -5.737     1       0.0405  139.981   \n",
       "5            0.000000    0    0.1860    -2.555     1       0.0673  154.673   \n",
       "6            0.069700    2    0.1060    -4.175     1       0.1090  127.933   \n",
       "7            0.000841    0    0.1070    -5.745     0       0.0578  123.986   \n",
       "8            0.032300    0    0.4330    -8.751     0       0.0683  150.442   \n",
       "9            0.775000    6    0.1350    -5.266     0       0.0584  149.939   \n",
       "10           0.000018    6    0.4810    -6.079     0       0.0717  130.108   \n",
       "11           0.191000    1    0.3790    -5.182     0       0.0378  137.942   \n",
       "12           0.000000    7    0.3070    -5.531     1       0.0360  107.003   \n",
       "13           0.938000    1    0.0479    -7.814     1       0.0438  130.027   \n",
       "14           0.747000    1    0.5050   -11.098     1       0.0440  132.006   \n",
       "15           0.008460    8    0.5080    -5.252     0       0.1270  149.968   \n",
       "16           0.152000    4    0.1950    -3.270     0       0.0434  127.945   \n",
       "17           0.003180    4    0.3900    -3.349     0       0.0628  131.917   \n",
       "18           0.704000    7    0.1440    -9.006     1       0.0694  125.943   \n",
       "19           0.017400    5    0.3290    -4.990     0       0.3530  127.994   \n",
       "20           0.001000    7    0.1390    -4.216     0       0.0732   75.997   \n",
       "21           0.708000    1    0.0945    -2.392     1       0.0933  159.989   \n",
       "22           0.000165    6    0.2810    -5.565     0       0.0507  125.484   \n",
       "23           0.016100    8    0.1420    -6.398     0       0.0831  150.044   \n",
       "24           0.000000    5    0.5850    -6.941     0       0.2520  130.016   \n",
       "25           0.892000    0    0.0998    -6.379     1       0.0390  139.992   \n",
       "26           0.000077    1    0.1860    -6.825     1       0.0479  180.003   \n",
       "27           0.665000    4    0.1400    -7.077     0       0.0481  128.008   \n",
       "28           0.708000    1    0.3880    -5.008     1       0.0481  133.041   \n",
       "29           0.002830    9    0.1850    -6.427     0       0.0496  131.912   \n",
       "..                ...  ...       ...       ...   ...          ...      ...   \n",
       "921          0.005900   11    0.0872    -5.305     0       0.1610  127.962   \n",
       "922          0.853000    8    0.1350    -7.837     0       0.0545  128.024   \n",
       "923          0.001010    3    0.6430    -3.302     0       0.0938  127.964   \n",
       "924          0.819000    0    0.1580    -8.897     0       0.0361  138.014   \n",
       "925          0.000000    1    0.7200    -4.036     0       0.0486  127.933   \n",
       "926          0.000025    9    0.1990    -2.722     0       0.1950  124.012   \n",
       "927          0.000028   11    0.1060    -1.330     0       0.2120  144.016   \n",
       "928          0.404000    5    0.5910    -4.056     1       0.0725  103.480   \n",
       "929          0.148000    2    0.3260    -4.950     1       0.0788  128.011   \n",
       "930          0.000165    1    0.3390    -4.959     0       0.1240  123.968   \n",
       "931          0.000025    6    0.1410    -4.725     0       0.0560  128.007   \n",
       "932          0.876000    1    0.2070    -2.202     1       0.0820  127.983   \n",
       "933          0.877000    5    0.0812    -8.859     0       0.0854  138.013   \n",
       "934          0.865000    9    0.0790    -4.357     0       0.0722  128.033   \n",
       "935          0.258000    6    0.3960    -5.984     0       0.0887  148.230   \n",
       "936          0.003300    7    0.2760    -5.491     1       0.0326  129.985   \n",
       "937          0.752000    8    0.1740    -5.055     1       0.1130  146.049   \n",
       "938          0.122000    5    0.0783    -6.347     0       0.1500  144.016   \n",
       "939          0.195000    4    0.0620    -4.529     0       0.0921  138.018   \n",
       "940          0.893000    9    0.2970    -8.758     0       0.0301  140.111   \n",
       "941          0.818000    0    0.1110    -4.923     1       0.1220  142.974   \n",
       "942          0.000084    3    0.1720    -5.293     0       0.0396  130.079   \n",
       "943          0.000000    2    0.6440    -6.995     1       0.0313  171.011   \n",
       "944          0.870000    3    0.1950    -4.674     0       0.0418  122.989   \n",
       "945          0.417000    6    0.1070    -4.713     0       0.0743  169.943   \n",
       "946          0.000030    1    0.0680    -6.905     1       0.0582  150.017   \n",
       "947          0.001040   10    0.2600    -5.626     0       0.0654  148.003   \n",
       "948          0.000000    0    0.2580    -7.541     1       0.0361  169.918   \n",
       "949          0.019800    0    0.4110    -9.165     0       0.0861  138.444   \n",
       "950          0.010400   10    0.0653    -3.347     1       0.0481  127.928   \n",
       "\n",
       "     time_signature  valence  \n",
       "0                 4   0.1600  \n",
       "1                 4   0.3940  \n",
       "2                 4   0.2620  \n",
       "3                 4   0.3330  \n",
       "4                 4   0.2880  \n",
       "5                 4   0.4410  \n",
       "6                 4   0.1400  \n",
       "7                 4   0.1020  \n",
       "8                 4   0.1300  \n",
       "9                 4   0.5060  \n",
       "10                4   0.2470  \n",
       "11                3   0.3750  \n",
       "12                4   0.1680  \n",
       "13                4   0.4850  \n",
       "14                4   0.0787  \n",
       "15                4   0.0655  \n",
       "16                4   0.0394  \n",
       "17                4   0.2550  \n",
       "18                4   0.5780  \n",
       "19                4   0.2060  \n",
       "20                4   0.1300  \n",
       "21                4   0.3290  \n",
       "22                4   0.0650  \n",
       "23                4   0.5030  \n",
       "24                4   0.4320  \n",
       "25                4   0.1690  \n",
       "26                4   0.0865  \n",
       "27                4   0.0420  \n",
       "28                4   0.0612  \n",
       "29                4   0.3010  \n",
       "..              ...      ...  \n",
       "921               4   0.3730  \n",
       "922               4   0.1800  \n",
       "923               4   0.2380  \n",
       "924               4   0.2240  \n",
       "925               4   0.1480  \n",
       "926               4   0.4720  \n",
       "927               4   0.3820  \n",
       "928               4   0.1740  \n",
       "929               4   0.4490  \n",
       "930               4   0.4190  \n",
       "931               4   0.3810  \n",
       "932               4   0.2650  \n",
       "933               4   0.0774  \n",
       "934               4   0.1220  \n",
       "935               4   0.2290  \n",
       "936               4   0.0566  \n",
       "937               4   0.3230  \n",
       "938               4   0.0620  \n",
       "939               4   0.1840  \n",
       "940               4   0.3950  \n",
       "941               4   0.1390  \n",
       "942               4   0.3690  \n",
       "943               4   0.7040  \n",
       "944               4   0.3380  \n",
       "945               4   0.4700  \n",
       "946               4   0.3470  \n",
       "947               4   0.1120  \n",
       "948               4   0.3320  \n",
       "949               4   0.2170  \n",
       "950               4   0.2550  \n",
       "\n",
       "[945 rows x 14 columns]"
      ]
     },
     "execution_count": 12,
     "metadata": {},
     "output_type": "execute_result"
    }
   ],
   "source": [
    "pd_trackfeatures.drop_duplicates(inplace=False)"
   ]
  },
  {
   "cell_type": "code",
   "execution_count": 13,
   "metadata": {},
   "outputs": [
    {
     "data": {
      "text/plain": [
       "explicit        bool\n",
       "id            object\n",
       "popularity     int64\n",
       "dtype: object"
      ]
     },
     "execution_count": 13,
     "metadata": {},
     "output_type": "execute_result"
    }
   ],
   "source": [
    "pd_trackinfo.dtypes"
   ]
  },
  {
   "cell_type": "code",
   "execution_count": 14,
   "metadata": {},
   "outputs": [
    {
     "data": {
      "text/plain": [
       "acousticness        float64\n",
       "danceability        float64\n",
       "duration_ms           int64\n",
       "energy              float64\n",
       "id                   object\n",
       "instrumentalness    float64\n",
       "key                   int64\n",
       "liveness            float64\n",
       "loudness            float64\n",
       "mode                  int64\n",
       "speechiness         float64\n",
       "tempo               float64\n",
       "time_signature        int64\n",
       "valence             float64\n",
       "dtype: object"
      ]
     },
     "execution_count": 14,
     "metadata": {},
     "output_type": "execute_result"
    }
   ],
   "source": [
    "pd_trackfeatures.dtypes"
   ]
  },
  {
   "cell_type": "markdown",
   "metadata": {},
   "source": [
    "The features and their datatypes look now cleaned up."
   ]
  },
  {
   "cell_type": "code",
   "execution_count": 15,
   "metadata": {},
   "outputs": [],
   "source": [
    "df = pd.merge(pd_trackinfo, pd_trackfeatures, on='id', suffixes=('_trackinfo','_trackfeatures'), how='inner')"
   ]
  },
  {
   "cell_type": "code",
   "execution_count": 16,
   "metadata": {},
   "outputs": [
    {
     "data": {
      "text/html": [
       "<div>\n",
       "<style scoped>\n",
       "    .dataframe tbody tr th:only-of-type {\n",
       "        vertical-align: middle;\n",
       "    }\n",
       "\n",
       "    .dataframe tbody tr th {\n",
       "        vertical-align: top;\n",
       "    }\n",
       "\n",
       "    .dataframe thead th {\n",
       "        text-align: right;\n",
       "    }\n",
       "</style>\n",
       "<table border=\"1\" class=\"dataframe\">\n",
       "  <thead>\n",
       "    <tr style=\"text-align: right;\">\n",
       "      <th></th>\n",
       "      <th>explicit</th>\n",
       "      <th>id</th>\n",
       "      <th>popularity</th>\n",
       "      <th>acousticness</th>\n",
       "      <th>danceability</th>\n",
       "      <th>duration_ms</th>\n",
       "      <th>energy</th>\n",
       "      <th>instrumentalness</th>\n",
       "      <th>key</th>\n",
       "      <th>liveness</th>\n",
       "      <th>loudness</th>\n",
       "      <th>mode</th>\n",
       "      <th>speechiness</th>\n",
       "      <th>tempo</th>\n",
       "      <th>time_signature</th>\n",
       "      <th>valence</th>\n",
       "    </tr>\n",
       "  </thead>\n",
       "  <tbody>\n",
       "    <tr>\n",
       "      <th>0</th>\n",
       "      <td>False</td>\n",
       "      <td>01FwoJVHy55BqEzf9hTtyf</td>\n",
       "      <td>0</td>\n",
       "      <td>0.011500</td>\n",
       "      <td>0.684</td>\n",
       "      <td>243840</td>\n",
       "      <td>0.918</td>\n",
       "      <td>0.133000</td>\n",
       "      <td>5</td>\n",
       "      <td>0.1310</td>\n",
       "      <td>-3.389</td>\n",
       "      <td>1</td>\n",
       "      <td>0.0463</td>\n",
       "      <td>124.959</td>\n",
       "      <td>4</td>\n",
       "      <td>0.160</td>\n",
       "    </tr>\n",
       "    <tr>\n",
       "      <th>1</th>\n",
       "      <td>False</td>\n",
       "      <td>0LTq2r4sWXgrlJk5gfjanc</td>\n",
       "      <td>24</td>\n",
       "      <td>0.007800</td>\n",
       "      <td>0.448</td>\n",
       "      <td>259765</td>\n",
       "      <td>0.880</td>\n",
       "      <td>0.000011</td>\n",
       "      <td>8</td>\n",
       "      <td>0.0955</td>\n",
       "      <td>-3.076</td>\n",
       "      <td>1</td>\n",
       "      <td>0.1360</td>\n",
       "      <td>170.047</td>\n",
       "      <td>4</td>\n",
       "      <td>0.394</td>\n",
       "    </tr>\n",
       "    <tr>\n",
       "      <th>2</th>\n",
       "      <td>False</td>\n",
       "      <td>0d04hp9JU5pkMoSFotxkmY</td>\n",
       "      <td>27</td>\n",
       "      <td>0.013800</td>\n",
       "      <td>0.585</td>\n",
       "      <td>160312</td>\n",
       "      <td>0.933</td>\n",
       "      <td>0.013200</td>\n",
       "      <td>6</td>\n",
       "      <td>0.2000</td>\n",
       "      <td>-3.927</td>\n",
       "      <td>0</td>\n",
       "      <td>0.0738</td>\n",
       "      <td>127.996</td>\n",
       "      <td>4</td>\n",
       "      <td>0.262</td>\n",
       "    </tr>\n",
       "    <tr>\n",
       "      <th>3</th>\n",
       "      <td>False</td>\n",
       "      <td>144Jdqnukv2zebyt6vq9H8</td>\n",
       "      <td>32</td>\n",
       "      <td>0.001370</td>\n",
       "      <td>0.626</td>\n",
       "      <td>215630</td>\n",
       "      <td>0.856</td>\n",
       "      <td>0.533000</td>\n",
       "      <td>8</td>\n",
       "      <td>0.1610</td>\n",
       "      <td>-4.937</td>\n",
       "      <td>1</td>\n",
       "      <td>0.0565</td>\n",
       "      <td>127.989</td>\n",
       "      <td>4</td>\n",
       "      <td>0.333</td>\n",
       "    </tr>\n",
       "    <tr>\n",
       "      <th>4</th>\n",
       "      <td>False</td>\n",
       "      <td>1LWM8ybNxkIWf8QqEafcP1</td>\n",
       "      <td>22</td>\n",
       "      <td>0.000319</td>\n",
       "      <td>0.503</td>\n",
       "      <td>224000</td>\n",
       "      <td>0.969</td>\n",
       "      <td>0.584000</td>\n",
       "      <td>9</td>\n",
       "      <td>0.3620</td>\n",
       "      <td>-5.737</td>\n",
       "      <td>1</td>\n",
       "      <td>0.0405</td>\n",
       "      <td>139.981</td>\n",
       "      <td>4</td>\n",
       "      <td>0.288</td>\n",
       "    </tr>\n",
       "  </tbody>\n",
       "</table>\n",
       "</div>"
      ],
      "text/plain": [
       "   explicit                      id  popularity  acousticness  danceability  \\\n",
       "0     False  01FwoJVHy55BqEzf9hTtyf           0      0.011500         0.684   \n",
       "1     False  0LTq2r4sWXgrlJk5gfjanc          24      0.007800         0.448   \n",
       "2     False  0d04hp9JU5pkMoSFotxkmY          27      0.013800         0.585   \n",
       "3     False  144Jdqnukv2zebyt6vq9H8          32      0.001370         0.626   \n",
       "4     False  1LWM8ybNxkIWf8QqEafcP1          22      0.000319         0.503   \n",
       "\n",
       "   duration_ms  energy  instrumentalness  key  liveness  loudness  mode  \\\n",
       "0       243840   0.918          0.133000    5    0.1310    -3.389     1   \n",
       "1       259765   0.880          0.000011    8    0.0955    -3.076     1   \n",
       "2       160312   0.933          0.013200    6    0.2000    -3.927     0   \n",
       "3       215630   0.856          0.533000    8    0.1610    -4.937     1   \n",
       "4       224000   0.969          0.584000    9    0.3620    -5.737     1   \n",
       "\n",
       "   speechiness    tempo  time_signature  valence  \n",
       "0       0.0463  124.959               4    0.160  \n",
       "1       0.1360  170.047               4    0.394  \n",
       "2       0.0738  127.996               4    0.262  \n",
       "3       0.0565  127.989               4    0.333  \n",
       "4       0.0405  139.981               4    0.288  "
      ]
     },
     "execution_count": 16,
     "metadata": {},
     "output_type": "execute_result"
    }
   ],
   "source": [
    "df.head()"
   ]
  },
  {
   "cell_type": "code",
   "execution_count": 17,
   "metadata": {},
   "outputs": [
    {
     "data": {
      "text/plain": [
       "(963, 16)"
      ]
     },
     "execution_count": 17,
     "metadata": {},
     "output_type": "execute_result"
    }
   ],
   "source": [
    "df.shape"
   ]
  },
  {
   "cell_type": "markdown",
   "metadata": {},
   "source": [
    "Oddly enough our shape is now wrong. Let's find the duplicates."
   ]
  },
  {
   "cell_type": "code",
   "execution_count": 18,
   "metadata": {},
   "outputs": [
    {
     "data": {
      "text/plain": [
       "(18, 16)"
      ]
     },
     "execution_count": 18,
     "metadata": {},
     "output_type": "execute_result"
    }
   ],
   "source": [
    "df[df.duplicated()].shape"
   ]
  },
  {
   "cell_type": "code",
   "execution_count": 19,
   "metadata": {},
   "outputs": [],
   "source": [
    "df.drop_duplicates(inplace=True)"
   ]
  },
  {
   "cell_type": "markdown",
   "metadata": {},
   "source": [
    "Now that we have our dataframe, we can start with normalization."
   ]
  },
  {
   "cell_type": "markdown",
   "metadata": {},
   "source": [
    "## Cleanup & Normalization\n",
    "Details can be found here: https://developer.spotify.com/documentation/web-api/reference/tracks/get-audio-features/"
   ]
  },
  {
   "cell_type": "markdown",
   "metadata": {},
   "source": [
    "Let's see how the features currently correlate."
   ]
  },
  {
   "cell_type": "code",
   "execution_count": 20,
   "metadata": {},
   "outputs": [
    {
     "data": {
      "text/plain": [
       "<matplotlib.axes._subplots.AxesSubplot at 0x175afe3e198>"
      ]
     },
     "execution_count": 20,
     "metadata": {},
     "output_type": "execute_result"
    },
    {
     "data": {
      "image/png": "[encoded data removed]",
      "text/plain": [
       "<Figure size 432x288 with 2 Axes>"
      ]
     },
     "metadata": {
      "needs_background": "light"
     },
     "output_type": "display_data"
    }
   ],
   "source": [
    "sns.heatmap(df.corr(),cmap=\"YlGnBu\")"
   ]
  },
  {
   "cell_type": "markdown",
   "metadata": {},
   "source": [
    "Luckily the features do not strongly correlate. Loudness and Energy do seem to correlate a little but we can deal with this."
   ]
  },
  {
   "cell_type": "markdown",
   "metadata": {},
   "source": [
    "### Feature 'explicit'"
   ]
  },
  {
   "cell_type": "code",
   "execution_count": 61,
   "metadata": {},
   "outputs": [],
   "source": [
    "# explicit is boolean so it is by definition already an integer subclass. To avoid confusion, we will make explicit.\n",
    "df['explicit_clean'] = df['explicit'].astype(float)"
   ]
  },
  {
   "cell_type": "markdown",
   "metadata": {},
   "source": [
    "### Feature 'popularity'"
   ]
  },
  {
   "cell_type": "code",
   "execution_count": 22,
   "metadata": {},
   "outputs": [
    {
     "data": {
      "text/plain": [
       "array([ 0, 24, 27, 32, 22, 40, 38, 37, 29, 34, 15, 42, 23, 25, 45, 39, 30,\n",
       "       21, 51, 28, 41, 47, 11, 17, 35, 43, 48, 57, 31, 26, 44, 49, 14, 36,\n",
       "       50, 13, 55, 61,  1, 60, 19,  4, 20, 18, 33, 10, 46, 54, 16,  5, 52,\n",
       "        9,  3, 53, 56, 63, 58, 65,  7,  6, 59, 64,  8, 67, 66, 62, 12, 69],\n",
       "      dtype=int64)"
      ]
     },
     "execution_count": 22,
     "metadata": {},
     "output_type": "execute_result"
    }
   ],
   "source": [
    "df['popularity'].unique()"
   ]
  },
  {
   "cell_type": "markdown",
   "metadata": {},
   "source": [
    "The spotify documentation tells the following:\n",
    "\n",
    "> The popularity of a track is a value between 0 and 100, with 100 being the most popular. The popularity is calculated by algorithm and is based, in the most part, on the total number of plays the track has had and how recent those plays are.\n",
    "> Generally speaking, songs that are being played a lot now will have a higher popularity than songs that were played a lot in the past. Duplicate tracks (e.g. the same track from a single and an album) are rated independently. Artist and album popularity is derived mathematically from track popularity. Note that the popularity value may lag actual popularity by a few days: the value is not updated in real time.\n",
    "\n",
    "This means we should normalize this value on a 0 to 1 scale."
   ]
  },
  {
   "cell_type": "code",
   "execution_count": 23,
   "metadata": {},
   "outputs": [
    {
     "data": {
      "text/plain": [
       "<matplotlib.axes._subplots.AxesSubplot at 0x175b1466c88>"
      ]
     },
     "execution_count": 23,
     "metadata": {},
     "output_type": "execute_result"
    },
    {
     "data": {
      "image/png": "[encoded data removed]",
      "text/plain": [
       "<Figure size 432x288 with 1 Axes>"
      ]
     },
     "metadata": {
      "needs_background": "light"
     },
     "output_type": "display_data"
    }
   ],
   "source": [
    "df['popularity_'] = df['popularity'].map(lambda x: x/100)\n",
    "df['popularity_clean'] = (df['popularity_']-df['popularity_'].min())/(df['popularity_'].max()-df['popularity_'].min())\n",
    "df.drop(['popularity_'], axis=1, inplace=True)\n",
    "df['popularity_clean'].hist(bins=20)"
   ]
  },
  {
   "cell_type": "markdown",
   "metadata": {},
   "source": [
    "### Feature 'acousticness'"
   ]
  },
  {
   "cell_type": "markdown",
   "metadata": {},
   "source": [
    "According to the documentation:\n",
    "> \tA confidence measure from 0.0 to 1.0 of whether the track is acoustic. 1.0 represents high confidence the track is acoustic. "
   ]
  },
  {
   "cell_type": "code",
   "execution_count": 24,
   "metadata": {},
   "outputs": [
    {
     "data": {
      "text/plain": [
       "<matplotlib.axes._subplots.AxesSubplot at 0x175b14f5860>"
      ]
     },
     "execution_count": 24,
     "metadata": {},
     "output_type": "execute_result"
    },
    {
     "data": {
      "image/png": "[encoded data removed]",
      "text/plain": [
       "<Figure size 432x288 with 1 Axes>"
      ]
     },
     "metadata": {
      "needs_background": "light"
     },
     "output_type": "display_data"
    }
   ],
   "source": [
    "df['acousticness'].hist(bins=20)"
   ]
  },
  {
   "cell_type": "markdown",
   "metadata": {},
   "source": [
    "The data is highly skewed. Let's use log transformation to normalize."
   ]
  },
  {
   "cell_type": "code",
   "execution_count": 25,
   "metadata": {},
   "outputs": [],
   "source": [
    "df['acousticness_'] = df['acousticness'].map(lambda x: np.log(x))\n",
    "df['acousticness_clean'] = (df['acousticness_']-df['acousticness_'].min())/(df['acousticness_'].max()-df['acousticness_'].min())\n",
    "df.drop(['acousticness_'], axis=1, inplace=True)"
   ]
  },
  {
   "cell_type": "code",
   "execution_count": 26,
   "metadata": {},
   "outputs": [
    {
     "data": {
      "text/plain": [
       "<matplotlib.axes._subplots.AxesSubplot at 0x175b1587cf8>"
      ]
     },
     "execution_count": 26,
     "metadata": {},
     "output_type": "execute_result"
    },
    {
     "data": {
      "image/png": "[encoded data removed]",
      "text/plain": [
       "<Figure size 432x288 with 1 Axes>"
      ]
     },
     "metadata": {
      "needs_background": "light"
     },
     "output_type": "display_data"
    }
   ],
   "source": [
    "df['acousticness_clean'].hist(bins=20)"
   ]
  },
  {
   "cell_type": "markdown",
   "metadata": {},
   "source": [
    "### Feature 'danceability'"
   ]
  },
  {
   "cell_type": "markdown",
   "metadata": {},
   "source": [
    "According to the documentation:\n",
    "> Danceability describes how suitable a track is for dancing based on a combination of musical elements including tempo, rhythm stability, beat strength, and overall regularity. A value of 0.0 is least danceable and 1.0 is most danceable. "
   ]
  },
  {
   "cell_type": "code",
   "execution_count": 27,
   "metadata": {},
   "outputs": [
    {
     "data": {
      "text/plain": [
       "<matplotlib.axes._subplots.AxesSubplot at 0x175b1616710>"
      ]
     },
     "execution_count": 27,
     "metadata": {},
     "output_type": "execute_result"
    },
    {
     "data": {
      "image/png": "[encoded data removed]",
      "text/plain": [
       "<Figure size 432x288 with 1 Axes>"
      ]
     },
     "metadata": {
      "needs_background": "light"
     },
     "output_type": "display_data"
    }
   ],
   "source": [
    "df['danceability'].hist(bins=20)"
   ]
  },
  {
   "cell_type": "markdown",
   "metadata": {},
   "source": [
    "This feature looks good. No need to work on this one. We will just normalize it."
   ]
  },
  {
   "cell_type": "code",
   "execution_count": 28,
   "metadata": {},
   "outputs": [
    {
     "data": {
      "text/plain": [
       "<matplotlib.axes._subplots.AxesSubplot at 0x175b16a5908>"
      ]
     },
     "execution_count": 28,
     "metadata": {},
     "output_type": "execute_result"
    },
    {
     "data": {
      "image/png": "[encoded data removed]",
      "text/plain": [
       "<Figure size 432x288 with 1 Axes>"
      ]
     },
     "metadata": {
      "needs_background": "light"
     },
     "output_type": "display_data"
    }
   ],
   "source": [
    "df['danceability_clean'] = (df['danceability']-df['danceability'].min())/(df['danceability'].max()-df['danceability'].min())\n",
    "df['danceability_clean'].hist(bins=20)"
   ]
  },
  {
   "cell_type": "markdown",
   "metadata": {},
   "source": [
    "### Feature 'duration_ms'"
   ]
  },
  {
   "cell_type": "code",
   "execution_count": 29,
   "metadata": {},
   "outputs": [
    {
     "data": {
      "text/plain": [
       "<matplotlib.axes._subplots.AxesSubplot at 0x175b173bba8>"
      ]
     },
     "execution_count": 29,
     "metadata": {},
     "output_type": "execute_result"
    },
    {
     "data": {
      "image/png": "[encoded data removed]",
      "text/plain": [
       "<Figure size 432x288 with 1 Axes>"
      ]
     },
     "metadata": {
      "needs_background": "light"
     },
     "output_type": "display_data"
    }
   ],
   "source": [
    "df['duration_ms'].hist(bins=20)"
   ]
  },
  {
   "cell_type": "markdown",
   "metadata": {},
   "source": [
    "The data is a little skewed. Since this feature represents the track duration, we will allow it to pull the fit line (or in our case principal component) closer, since we are fine with tracks around the 200000ms mark."
   ]
  },
  {
   "cell_type": "code",
   "execution_count": 30,
   "metadata": {},
   "outputs": [
    {
     "data": {
      "text/plain": [
       "<matplotlib.axes._subplots.AxesSubplot at 0x175b17b91d0>"
      ]
     },
     "execution_count": 30,
     "metadata": {},
     "output_type": "execute_result"
    },
    {
     "data": {
      "image/png": "[encoded data removed]",
      "text/plain": [
       "<Figure size 432x288 with 1 Axes>"
      ]
     },
     "metadata": {
      "needs_background": "light"
     },
     "output_type": "display_data"
    }
   ],
   "source": [
    "df['duration_ms_clean'] = (df['duration_ms']-df['duration_ms'].min())/(df['duration_ms'].max()-df['duration_ms'].min())\n",
    "df['duration_ms_clean'].hist(bins=20)"
   ]
  },
  {
   "cell_type": "markdown",
   "metadata": {},
   "source": [
    "### Feature 'energy'"
   ]
  },
  {
   "cell_type": "code",
   "execution_count": 31,
   "metadata": {},
   "outputs": [
    {
     "data": {
      "text/plain": [
       "<matplotlib.axes._subplots.AxesSubplot at 0x175b1828048>"
      ]
     },
     "execution_count": 31,
     "metadata": {},
     "output_type": "execute_result"
    },
    {
     "data": {
      "image/png": "[encoded data removed]",
      "text/plain": [
       "<Figure size 432x288 with 1 Axes>"
      ]
     },
     "metadata": {
      "needs_background": "light"
     },
     "output_type": "display_data"
    }
   ],
   "source": [
    "df['energy'].hist(bins=20)"
   ]
  },
  {
   "cell_type": "markdown",
   "metadata": {},
   "source": [
    "A lot of the tracks seem to be energetic. I think I am fine with leaving this feature skewed.\n",
    "\n",
    "> Energy is a measure from 0.0 to 1.0 and represents a perceptual measure of intensity and activity. Typically, energetic tracks feel fast, loud, and noisy. For example, death metal has high energy, while a Bach prelude scores low on the scale. Perceptual features contributing to this attribute include dynamic range, perceived loudness, timbre, onset rate, and general entropy."
   ]
  },
  {
   "cell_type": "code",
   "execution_count": 32,
   "metadata": {},
   "outputs": [
    {
     "data": {
      "text/plain": [
       "<matplotlib.axes._subplots.AxesSubplot at 0x175b18c8710>"
      ]
     },
     "execution_count": 32,
     "metadata": {},
     "output_type": "execute_result"
    },
    {
     "data": {
      "image/png": "[encoded data removed]",
      "text/plain": [
       "<Figure size 432x288 with 1 Axes>"
      ]
     },
     "metadata": {
      "needs_background": "light"
     },
     "output_type": "display_data"
    }
   ],
   "source": [
    "df['energy_clean'] = (df['energy']-df['energy'].min())/(df['energy'].max()-df['energy'].min())\n",
    "df['energy_clean'].hist(bins=20)"
   ]
  },
  {
   "cell_type": "markdown",
   "metadata": {},
   "source": [
    "### Feature 'instrumentalness'"
   ]
  },
  {
   "cell_type": "code",
   "execution_count": 33,
   "metadata": {},
   "outputs": [
    {
     "data": {
      "text/plain": [
       "<matplotlib.axes._subplots.AxesSubplot at 0x175b18c8ef0>"
      ]
     },
     "execution_count": 33,
     "metadata": {},
     "output_type": "execute_result"
    },
    {
     "data": {
      "image/png": "[encoded data removed]",
      "text/plain": [
       "<Figure size 432x288 with 1 Axes>"
      ]
     },
     "metadata": {
      "needs_background": "light"
     },
     "output_type": "display_data"
    }
   ],
   "source": [
    "df['instrumentalness'].hist(bins=20)"
   ]
  },
  {
   "cell_type": "markdown",
   "metadata": {},
   "source": [
    "So this data appears to be skewed as well. \n",
    "\n",
    "> \tPredicts whether a track contains no vocals. “Ooh” and “aah” sounds are treated as instrumental in this context. Rap or spoken word tracks are clearly “vocal”. The closer the instrumentalness value is to 1.0, the greater likelihood the track contains no vocal content. Values above 0.5 are intended to represent instrumental tracks, but confidence is higher as the value approaches 1.0.\n",
    "\n",
    "Knowing this, I would propose to scale everything above 0.5 to 0.5 and then rescale from 0 to 1. This will promote non-vocal and vocal tracks \"equally\"."
   ]
  },
  {
   "cell_type": "code",
   "execution_count": 34,
   "metadata": {},
   "outputs": [],
   "source": [
    "df['instrumentalness_'] = df['instrumentalness'].map(lambda x: 0.5 if x > 0.5 else x)\n",
    "df['instrumentalness_clean'] = (df['instrumentalness_']-df['instrumentalness_'].min())/(df['instrumentalness_'].max()-df['instrumentalness_'].min())\n",
    "df.drop(['instrumentalness_'], axis=1, inplace=True)"
   ]
  },
  {
   "cell_type": "code",
   "execution_count": 35,
   "metadata": {},
   "outputs": [
    {
     "data": {
      "text/plain": [
       "<matplotlib.axes._subplots.AxesSubplot at 0x175b1727e10>"
      ]
     },
     "execution_count": 35,
     "metadata": {},
     "output_type": "execute_result"
    },
    {
     "data": {
      "image/png": "[encoded data removed]",
      "text/plain": [
       "<Figure size 432x288 with 1 Axes>"
      ]
     },
     "metadata": {
      "needs_background": "light"
     },
     "output_type": "display_data"
    }
   ],
   "source": [
    "df['instrumentalness_clean'].hist(bins=20)"
   ]
  },
  {
   "cell_type": "markdown",
   "metadata": {},
   "source": [
    "### Feature 'key'"
   ]
  },
  {
   "cell_type": "markdown",
   "metadata": {},
   "source": [
    "> \tThe estimated overall key of the track. Integers map to pitches using standard Pitch Class notation . E.g. 0 = C, 1 = C♯/D♭, 2 = D, and so on. If no key was detected, the value is -1.\n",
    "\n",
    "Therefore, we can map it to a more human readable format."
   ]
  },
  {
   "cell_type": "code",
   "execution_count": 36,
   "metadata": {
    "scrolled": true
   },
   "outputs": [
    {
     "data": {
      "text/plain": [
       "<matplotlib.axes._subplots.AxesSubplot at 0x175b1a6edd8>"
      ]
     },
     "execution_count": 36,
     "metadata": {},
     "output_type": "execute_result"
    },
    {
     "data": {
      "image/png": "[encoded data removed]",
      "text/plain": [
       "<Figure size 432x288 with 1 Axes>"
      ]
     },
     "metadata": {
      "needs_background": "light"
     },
     "output_type": "display_data"
    }
   ],
   "source": [
    "tonal = ['C','C#','D','D#','E','F','F#','G','G#','A','A#','B']\n",
    "df['key'].map(lambda i: tonal[int(i)]).value_counts().plot.bar(title='Key')"
   ]
  },
  {
   "cell_type": "code",
   "execution_count": 37,
   "metadata": {},
   "outputs": [
    {
     "data": {
      "text/plain": [
       "<matplotlib.axes._subplots.AxesSubplot at 0x175b1b0c240>"
      ]
     },
     "execution_count": 37,
     "metadata": {},
     "output_type": "execute_result"
    },
    {
     "data": {
      "image/png": "[encoded data removed]",
      "text/plain": [
       "<Figure size 432x288 with 1 Axes>"
      ]
     },
     "metadata": {
      "needs_background": "light"
     },
     "output_type": "display_data"
    }
   ],
   "source": [
    "df['key_clean'] = (df['key']-df['key'].min())/(df['key'].max()-df['key'].min())\n",
    "df['key_clean'].hist(bins=11)"
   ]
  },
  {
   "cell_type": "markdown",
   "metadata": {},
   "source": [
    "### Feature 'liveness'"
   ]
  },
  {
   "cell_type": "markdown",
   "metadata": {},
   "source": [
    "> \tDetects the presence of an audience in the recording. Higher liveness values represent an increased probability that the track was performed live. A value above 0.8 provides strong likelihood that the track is live."
   ]
  },
  {
   "cell_type": "code",
   "execution_count": 38,
   "metadata": {},
   "outputs": [
    {
     "data": {
      "text/plain": [
       "<matplotlib.axes._subplots.AxesSubplot at 0x175b1b819e8>"
      ]
     },
     "execution_count": 38,
     "metadata": {},
     "output_type": "execute_result"
    },
    {
     "data": {
      "image/png": "[encoded data removed]",
      "text/plain": [
       "<Figure size 432x288 with 1 Axes>"
      ]
     },
     "metadata": {
      "needs_background": "light"
     },
     "output_type": "display_data"
    }
   ],
   "source": [
    "df['liveness'].hist(bins=20)"
   ]
  },
  {
   "cell_type": "markdown",
   "metadata": {},
   "source": [
    "It looks like 'live' tracks are not really present in the playlist. Neither should they. Hence, we will not fiddle with this representation and let it be as is."
   ]
  },
  {
   "cell_type": "code",
   "execution_count": 39,
   "metadata": {},
   "outputs": [],
   "source": [
    "df['liveness_clean'] = (df['liveness']-df['liveness'].min())/(df['liveness'].max()-df['liveness'].min())"
   ]
  },
  {
   "cell_type": "markdown",
   "metadata": {},
   "source": [
    "### Feature 'loudness'"
   ]
  },
  {
   "cell_type": "code",
   "execution_count": 40,
   "metadata": {},
   "outputs": [
    {
     "data": {
      "text/plain": [
       "<matplotlib.axes._subplots.AxesSubplot at 0x175b1a454a8>"
      ]
     },
     "execution_count": 40,
     "metadata": {},
     "output_type": "execute_result"
    },
    {
     "data": {
      "image/png": "[encoded data removed]",
      "text/plain": [
       "<Figure size 432x288 with 1 Axes>"
      ]
     },
     "metadata": {
      "needs_background": "light"
     },
     "output_type": "display_data"
    }
   ],
   "source": [
    "df['loudness'].hist(bins=20)"
   ]
  },
  {
   "cell_type": "markdown",
   "metadata": {},
   "source": [
    "> The overall loudness of a track in decibels (dB). Loudness values are averaged across the entire track and are useful for comparing relative loudness of tracks. Loudness is the quality of a sound that is the primary psychological correlate of physical strength (amplitude). Values typical range between -60 and 0 db. "
   ]
  },
  {
   "cell_type": "markdown",
   "metadata": {},
   "source": [
    "This is another value that should be left as is. We will normalize it though."
   ]
  },
  {
   "cell_type": "code",
   "execution_count": 41,
   "metadata": {},
   "outputs": [
    {
     "data": {
      "text/plain": [
       "<matplotlib.axes._subplots.AxesSubplot at 0x175b1c81128>"
      ]
     },
     "execution_count": 41,
     "metadata": {},
     "output_type": "execute_result"
    },
    {
     "data": {
      "image/png": "[encoded data removed]",
      "text/plain": [
       "<Figure size 432x288 with 1 Axes>"
      ]
     },
     "metadata": {
      "needs_background": "light"
     },
     "output_type": "display_data"
    }
   ],
   "source": [
    "df['loudness_clean'] = (df['loudness']-df['loudness'].min())/(df['loudness'].max()-df['loudness'].min())\n",
    "df['loudness_clean'].hist(bins=20)"
   ]
  },
  {
   "cell_type": "markdown",
   "metadata": {},
   "source": [
    "### Feature 'mode'"
   ]
  },
  {
   "cell_type": "code",
   "execution_count": 42,
   "metadata": {},
   "outputs": [
    {
     "data": {
      "text/plain": [
       "<matplotlib.axes._subplots.AxesSubplot at 0x175b1d13da0>"
      ]
     },
     "execution_count": 42,
     "metadata": {},
     "output_type": "execute_result"
    },
    {
     "data": {
      "image/png": "[encoded data removed]",
      "text/plain": [
       "<Figure size 432x288 with 1 Axes>"
      ]
     },
     "metadata": {
      "needs_background": "light"
     },
     "output_type": "display_data"
    }
   ],
   "source": [
    "df['mode'].value_counts().plot.bar()"
   ]
  },
  {
   "cell_type": "markdown",
   "metadata": {},
   "source": [
    "> Mode indicates the modality (major or minor) of a track, the type of scale from which its melodic content is derived. Major is represented by 1 and minor is 0.\n",
    "\n",
    "It looks like this feature does not have much influence as it is almost equally distributed. We will drop it."
   ]
  },
  {
   "cell_type": "code",
   "execution_count": 43,
   "metadata": {},
   "outputs": [],
   "source": [
    "df.drop(['mode'], axis=1, inplace=True)"
   ]
  },
  {
   "cell_type": "markdown",
   "metadata": {},
   "source": [
    "### Feature 'speechiness'"
   ]
  },
  {
   "cell_type": "code",
   "execution_count": 44,
   "metadata": {},
   "outputs": [
    {
     "data": {
      "text/plain": [
       "<matplotlib.axes._subplots.AxesSubplot at 0x175b1d6fac8>"
      ]
     },
     "execution_count": 44,
     "metadata": {},
     "output_type": "execute_result"
    },
    {
     "data": {
      "image/png": "[encoded data removed]",
      "text/plain": [
       "<Figure size 432x288 with 1 Axes>"
      ]
     },
     "metadata": {
      "needs_background": "light"
     },
     "output_type": "display_data"
    }
   ],
   "source": [
    "df['speechiness'].hist(bins=20)"
   ]
  },
  {
   "cell_type": "markdown",
   "metadata": {},
   "source": [
    "> \tSpeechiness detects the presence of spoken words in a track. The more exclusively speech-like the recording (e.g. talk show, audio book, poetry), the closer to 1.0 the attribute value. Values above 0.66 describe tracks that are probably made entirely of spoken words. Values between 0.33 and 0.66 describe tracks that may contain both music and speech, either in sections or layered, including such cases as rap music. Values below 0.33 most likely represent music and other non-speech-like tracks.\n",
    "\n",
    "This feature should be treated as 'acousticness'."
   ]
  },
  {
   "cell_type": "code",
   "execution_count": 45,
   "metadata": {},
   "outputs": [],
   "source": [
    "df['speechiness_'] = df['speechiness'].map(lambda x: np.log(x))\n",
    "df['speechiness_clean'] = (df['speechiness_']-df['speechiness_'].min())/(df['speechiness_'].max()-df['speechiness_'].min())\n",
    "df.drop(['speechiness_'], axis=1, inplace=True)"
   ]
  },
  {
   "cell_type": "code",
   "execution_count": 46,
   "metadata": {},
   "outputs": [
    {
     "data": {
      "text/plain": [
       "<matplotlib.axes._subplots.AxesSubplot at 0x175b1dfb0f0>"
      ]
     },
     "execution_count": 46,
     "metadata": {},
     "output_type": "execute_result"
    },
    {
     "data": {
      "image/png": "[encoded data removed]",
      "text/plain": [
       "<Figure size 432x288 with 1 Axes>"
      ]
     },
     "metadata": {
      "needs_background": "light"
     },
     "output_type": "display_data"
    }
   ],
   "source": [
    "df['speechiness_clean'].hist(bins=20)"
   ]
  },
  {
   "cell_type": "markdown",
   "metadata": {},
   "source": [
    "### Feature 'tempo'"
   ]
  },
  {
   "cell_type": "code",
   "execution_count": 47,
   "metadata": {},
   "outputs": [
    {
     "data": {
      "text/plain": [
       "<matplotlib.axes._subplots.AxesSubplot at 0x175b2e58c88>"
      ]
     },
     "execution_count": 47,
     "metadata": {},
     "output_type": "execute_result"
    },
    {
     "data": {
      "image/png": "[encoded data removed]",
      "text/plain": [
       "<Figure size 432x288 with 1 Axes>"
      ]
     },
     "metadata": {
      "needs_background": "light"
     },
     "output_type": "display_data"
    }
   ],
   "source": [
    "df['tempo'].hist(bins=20)"
   ]
  },
  {
   "cell_type": "markdown",
   "metadata": {},
   "source": [
    "> \tThe overall estimated tempo of a track in beats per minute (BPM). In musical terminology, tempo is the speed or pace of a given piece and derives directly from the average beat duration.\n",
    "\n",
    "This feature seems fine and kind of expected. Simple normalization will do."
   ]
  },
  {
   "cell_type": "code",
   "execution_count": 48,
   "metadata": {},
   "outputs": [],
   "source": [
    "df['tempo_clean'] = (df['tempo']-df['tempo'].min())/(df['tempo'].max()-df['tempo'].min())"
   ]
  },
  {
   "cell_type": "markdown",
   "metadata": {},
   "source": [
    "### Feature 'time_signature'"
   ]
  },
  {
   "cell_type": "code",
   "execution_count": 49,
   "metadata": {},
   "outputs": [
    {
     "data": {
      "text/plain": [
       "<matplotlib.axes._subplots.AxesSubplot at 0x175b2ef0278>"
      ]
     },
     "execution_count": 49,
     "metadata": {},
     "output_type": "execute_result"
    },
    {
     "data": {
      "image/png": "[encoded data removed]",
      "text/plain": [
       "<Figure size 432x288 with 1 Axes>"
      ]
     },
     "metadata": {
      "needs_background": "light"
     },
     "output_type": "display_data"
    }
   ],
   "source": [
    "df['time_signature'].value_counts().plot.bar()"
   ]
  },
  {
   "cell_type": "markdown",
   "metadata": {},
   "source": [
    "> An estimated overall time signature of a track. The time signature (meter) is a notational convention to specify how many beats are in each bar (or measure).\n",
    "\n",
    "Similar to 'mode', this feature is not really helpful. We will drop it too."
   ]
  },
  {
   "cell_type": "code",
   "execution_count": 50,
   "metadata": {},
   "outputs": [],
   "source": [
    "df.drop(['time_signature'], axis=1, inplace=True)"
   ]
  },
  {
   "cell_type": "markdown",
   "metadata": {},
   "source": [
    "### Feature 'valence'"
   ]
  },
  {
   "cell_type": "code",
   "execution_count": 51,
   "metadata": {},
   "outputs": [
    {
     "data": {
      "text/plain": [
       "<matplotlib.axes._subplots.AxesSubplot at 0x175b2f54da0>"
      ]
     },
     "execution_count": 51,
     "metadata": {},
     "output_type": "execute_result"
    },
    {
     "data": {
      "image/png": "[encoded data removed]",
      "text/plain": [
       "<Figure size 432x288 with 1 Axes>"
      ]
     },
     "metadata": {
      "needs_background": "light"
     },
     "output_type": "display_data"
    }
   ],
   "source": [
    "df['valence'].hist(bins=20)"
   ]
  },
  {
   "cell_type": "markdown",
   "metadata": {},
   "source": [
    "> A measure from 0.0 to 1.0 describing the musical positiveness conveyed by a track. Tracks with high valence sound more positive (e.g. happy, cheerful, euphoric), while tracks with low valence sound more negative (e.g. sad, depressed, angry)."
   ]
  },
  {
   "cell_type": "code",
   "execution_count": 52,
   "metadata": {},
   "outputs": [],
   "source": [
    "df['valence_clean'] = (df['valence']-df['valence'].min())/(df['valence'].max()-df['valence'].min())"
   ]
  },
  {
   "cell_type": "markdown",
   "metadata": {},
   "source": [
    "## Visualization of cleaning"
   ]
  },
  {
   "cell_type": "code",
   "execution_count": 68,
   "metadata": {},
   "outputs": [],
   "source": [
    "columns_for_processing = [x for x in list(df.columns) if 'clean' in x]\n",
    "columns_for_processing.append('id')\n",
    "df_clean = df[columns_for_processing].copy()\n",
    "df_clean.rename(columns=lambda x: x.replace('_clean', ''), inplace=True)"
   ]
  },
  {
   "cell_type": "code",
   "execution_count": 69,
   "metadata": {},
   "outputs": [
    {
     "data": {
      "text/plain": [
       "<matplotlib.axes._subplots.AxesSubplot at 0x175b394f208>"
      ]
     },
     "execution_count": 69,
     "metadata": {},
     "output_type": "execute_result"
    },
    {
     "data": {
      "image/png": "[encoded data removed]",
      "text/plain": [
       "<Figure size 432x288 with 2 Axes>"
      ]
     },
     "metadata": {
      "needs_background": "light"
     },
     "output_type": "display_data"
    }
   ],
   "source": [
    "sns.heatmap(df_clean.corr(),cmap=\"YlGnBu\")"
   ]
  },
  {
   "cell_type": "markdown",
   "metadata": {},
   "source": [
    "Let's see this on a nice spider chart."
   ]
  },
  {
   "cell_type": "code",
   "execution_count": 99,
   "metadata": {},
   "outputs": [],
   "source": [
    "def plot_spider(df, categories, title=''):\n",
    "    \"\"\"Function to plot a spider/radar chart\n",
    "\n",
    "    Args:\n",
    "        df: The data frame to plot. Requires to be in th following format format:\n",
    "            | feature1 | feature2 | ... | featureN |\n",
    "          # | 0        | 1        | ... | -1       |\n",
    "          Note: Only one row is allowed to the dataframe.\n",
    "        categories: The categories, i.e. names of each feature.\n",
    "        title: The title to be displayed over the plot. Default: ''\n",
    "\n",
    "    Returns:\n",
    "        Nothing (however, plots the radar chart directly)\n",
    "\n",
    "    \"\"\"\n",
    "    # credits to: https://python-graph-gallery.com/390-basic-radar-chart/\n",
    "    \n",
    "    N = len(categories)\n",
    "\n",
    "    # We are going to plot the first line of the data frame.\n",
    "    # But we need to repeat the first value to close the circular graph:\n",
    "    values=df.values.flatten().tolist()\n",
    "    values += values[:1]\n",
    "    values\n",
    "\n",
    "    # What will be the angle of each axis in the plot? (we divide the plot / number of variable)\n",
    "    angles = [n / float(N) * 2 * pi for n in range(N)]\n",
    "    angles += angles[:1]\n",
    "\n",
    "    # Initialise the spider plot\n",
    "    plt.figure(figsize=(8,8))\n",
    "    ax = plt.subplot(111, polar=True)\n",
    "\n",
    "    # Draw one axe per variable + add labels labels yet\n",
    "    plt.xticks(angles[:-1], categories, color='black', size=15)\n",
    "\n",
    "    # Draw ylabels\n",
    "    ax.set_rlabel_position(0)\n",
    "    plt.yticks([0,0.1,0.2,0.3,0.4,0.5,0.6,0.7,0.8,0.9,1], ['0','0.1','0.2','0.3','0.4','0.5','0.6','0.7','0.8','0.9','1'], color=\"grey\", size=10)\n",
    "    plt.ylim(0,1)\n",
    "    \n",
    "    # Plot title\n",
    "    plt.title(title, size=20)\n",
    "\n",
    "    # Plot data\n",
    "    ax.plot(angles, values, linewidth=1, linestyle='solid')\n",
    "\n",
    "    # Fill area\n",
    "    ax.fill(angles, values, 'b', alpha=0.1)"
   ]
  },
  {
   "cell_type": "code",
   "execution_count": 101,
   "metadata": {},
   "outputs": [
    {
     "data": {
      "image/png": "[encoded data removed]",
      "text/plain": [
       "<Figure size 576x576 with 1 Axes>"
      ]
     },
     "metadata": {},
     "output_type": "display_data"
    }
   ],
   "source": [
    "plot_spider(df_clean[[x for x in df_clean.columns if 'id' not in x]].mean(), [x for x in df_clean.columns if 'id' not in x], 'Playlist profile')"
   ]
  },
  {
   "cell_type": "markdown",
   "metadata": {},
   "source": [
    "This spider chart, gives a good idea of the playlist.\n",
    "Let's see if we can find clusters or principal components inside the data to group the tracks inside that playlist. We should then get more \"extreme\" profiles."
   ]
  },
  {
   "cell_type": "markdown",
   "metadata": {},
   "source": [
    "## Playlist analysis"
   ]
  },
  {
   "cell_type": "code",
   "execution_count": 102,
   "metadata": {},
   "outputs": [],
   "source": [
    "#TBD"
   ]
  }
 ],
 "metadata": {
  "kernelspec": {
   "display_name": "Python 3",
   "language": "python",
   "name": "python3"
  },
  "language_info": {
   "codemirror_mode": {
    "name": "ipython",
    "version": 3
   },
   "file_extension": ".py",
   "mimetype": "text/x-python",
   "name": "python",
   "nbconvert_exporter": "python",
   "pygments_lexer": "ipython3",
   "version": "3.7.1"
  }
 },
 "nbformat": 4,
 "nbformat_minor": 2
}
